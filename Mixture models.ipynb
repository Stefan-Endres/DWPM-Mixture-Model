{
 "cells": [
  {
   "cell_type": "code",
   "execution_count": 1,
   "metadata": {},
   "outputs": [
    {
     "ename": "ModuleNotFoundError",
     "evalue": "No module named 'sympy'",
     "output_type": "error",
     "traceback": [
      "\u001b[0;31m---------------------------------------------------------------------------\u001b[0m",
      "\u001b[0;31mModuleNotFoundError\u001b[0m                       Traceback (most recent call last)",
      "Input \u001b[0;32mIn [1]\u001b[0m, in \u001b[0;36m<cell line: 2>\u001b[0;34m()\u001b[0m\n\u001b[1;32m      1\u001b[0m \u001b[38;5;28;01mfrom\u001b[39;00m \u001b[38;5;21;01m__future__\u001b[39;00m \u001b[38;5;28;01mimport\u001b[39;00m division\n\u001b[0;32m----> 2\u001b[0m \u001b[38;5;28;01mfrom\u001b[39;00m \u001b[38;5;21;01msympy\u001b[39;00m \u001b[38;5;28;01mimport\u001b[39;00m symbols, Function, diff, solve, init_printing, latex, cos, acos, ln, sqrt, Rational, pi, Abs\n\u001b[1;32m      3\u001b[0m init_printing(use_unicode\u001b[38;5;241m=\u001b[39m\u001b[38;5;28;01mTrue\u001b[39;00m)\n\u001b[1;32m      4\u001b[0m f, g \u001b[38;5;241m=\u001b[39m symbols(\u001b[38;5;124m'\u001b[39m\u001b[38;5;124mf g\u001b[39m\u001b[38;5;124m'\u001b[39m, \u001b[38;5;28mcls\u001b[39m\u001b[38;5;241m=\u001b[39mFunction)\n",
      "\u001b[0;31mModuleNotFoundError\u001b[0m: No module named 'sympy'"
     ]
    }
   ],
   "source": [
    "from __future__ import division\n",
    "from sympy import symbols, Function, diff, solve, init_printing, latex, cos, acos, ln, sqrt, Rational, pi, Abs\n",
    "init_printing(use_unicode=True)\n",
    "f, g = symbols('f g', cls=Function)"
   ]
  },
  {
   "cell_type": "markdown",
   "metadata": {},
   "source": [
    "# Define Variables and Functionals"
   ]
  },
  {
   "cell_type": "code",
   "execution_count": 14,
   "metadata": {
    "collapsed": true
   },
   "outputs": [],
   "source": [
    "P, T, R, V_i_k, V_z_k, V_j_k, V_z, a_im, r, s, Sigma_n_i = symbols('P, T, R, V_i^k, V_z^k, V_j^k V_z a_im, r, s, Sigma^n_i=1')\n",
    "a_j, a_z, a_i, b_j, b_z, b_i, x_i, x_j, x_z = symbols('a_j, a_z, a_i, b_j, b_z, b_i, x_i, x_j, x_z')\n",
    "f, g_i_R_k, g_mix_R_k, a_mix, b_mix, V_mix_k = symbols('f, g_i^R\\,k, g_mix^R\\,k, a_mix, b_mix, V_mix^k', cls=Function)"
   ]
  },
  {
   "cell_type": "code",
   "execution_count": 39,
   "metadata": {},
   "outputs": [
    {
     "data": {
      "image/png": "[encoded data removed]",
      "text/plain": [
       "-Σⁿᵢ₌₁⋅xᵢ - x_z + 1"
      ]
     },
     "metadata": {},
     "output_type": "display_data"
    }
   ],
   "source": [
    "x_j_func = 1 - x_z - Sigma_n_i * x_i # Eliminate non-independent variable\n",
    "x_j_func"
   ]
  },
  {
   "cell_type": "code",
   "execution_count": 40,
   "metadata": {},
   "outputs": [
    {
     "data": {
      "image/png": "[encoded data removed]",
      "text/plain": [
       "V_z__k"
      ]
     },
     "metadata": {},
     "output_type": "display_data"
    }
   ],
   "source": [
    "V_z_k"
   ]
  },
  {
   "cell_type": "code",
   "execution_count": 41,
   "metadata": {},
   "outputs": [
    {
     "data": {
      "image/png": "[encoded data removed]",
      "text/plain": [
       "g_mix__R,k(x_z)"
      ]
     },
     "metadata": {},
     "output_type": "display_data"
    }
   ],
   "source": [
    "g_mix_R_k(x_z)"
   ]
  },
  {
   "cell_type": "code",
   "execution_count": 42,
   "metadata": {},
   "outputs": [
    {
     "data": {
      "image/png": "[encoded data removed]",
      "text/plain": [
       " d              \n",
       "────(a_mix(x_z))\n",
       "dx_z            "
      ]
     },
     "metadata": {},
     "output_type": "display_data"
    }
   ],
   "source": [
    "diff(a_mix(x_z), x_z)"
   ]
  },
  {
   "cell_type": "code",
   "execution_count": 43,
   "metadata": {},
   "outputs": [
    {
     "data": {
      "image/png": "[encoded data removed]",
      "text/plain": [
       "log(x_z)"
      ]
     },
     "metadata": {},
     "output_type": "display_data"
    }
   ],
   "source": [
    "ln(x_z)"
   ]
  },
  {
   "cell_type": "markdown",
   "metadata": {},
   "source": [
    "# Gibbs Energy"
   ]
  },
  {
   "cell_type": "markdown",
   "metadata": {},
   "source": [
    "## Ideal gas terms"
   ]
  },
  {
   "cell_type": "code",
   "execution_count": 44,
   "metadata": {},
   "outputs": [
    {
     "data": {
      "image/png": "[encoded data removed]",
      "text/plain": [
       "Σⁿᵢ₌₁⋅xᵢ⋅log(xᵢ) + x_z⋅log(x_z) + (-Σⁿᵢ₌₁⋅xᵢ - x_z + 1)⋅log(-Σⁿᵢ₌₁⋅xᵢ - x_z + \n",
       "1)"
      ]
     },
     "metadata": {},
     "output_type": "display_data"
    }
   ],
   "source": [
    "idg_func = x_z * ln(x_z) + x_j * ln(x_j) + Sigma_n_i * x_i * ln(x_i)\n",
    "idg_func = idg_func.subs(x_j, x_j_func )\n",
    "idg_func"
   ]
  },
  {
   "cell_type": "code",
   "execution_count": 45,
   "metadata": {},
   "outputs": [
    {
     "data": {
      "image/png": "[encoded data removed]",
      "text/plain": [
       "log(x_z) - log(-Σⁿᵢ₌₁⋅xᵢ - x_z + 1)"
      ]
     },
     "metadata": {},
     "output_type": "display_data"
    }
   ],
   "source": [
    "diff(idg_func, x_z)"
   ]
  },
  {
   "cell_type": "code",
   "execution_count": 46,
   "metadata": {},
   "outputs": [
    {
     "data": {
      "image/png": "[encoded data removed]",
      "text/plain": [
       "          1             1 \n",
       "- ────────────────── + ───\n",
       "  Σⁿᵢ₌₁⋅xᵢ + x_z - 1   x_z"
      ]
     },
     "metadata": {},
     "output_type": "display_data"
    }
   ],
   "source": [
    "diff(idg_func, x_z, x_z) # Validated against hand calculations"
   ]
  },
  {
   "cell_type": "markdown",
   "metadata": {},
   "source": [
    "## Pure component terms"
   ]
  },
  {
   "cell_type": "code",
   "execution_count": 47,
   "metadata": {},
   "outputs": [
    {
     "data": {
      "image/png": "[encoded data removed]",
      "text/plain": [
       "         ⎛P⋅V_i__k      ⎛ P ⎞                               aᵢ    ⎞       ⎛P⋅V\n",
       "Σⁿᵢ₌₁⋅xᵢ⋅⎜──────── - log⎜───⎟ - log(V_i__k - b_z) - 1 - ──────────⎟ + x_j⋅⎜───\n",
       "         ⎝  R⋅T         ⎝R⋅T⎠                           R⋅T⋅V_i__k⎠       ⎝  R\n",
       "\n",
       "_j__k      ⎛ P ⎞                              a_j    ⎞       ⎛P⋅V_z__k      ⎛ \n",
       "───── - log⎜───⎟ - log(V_j__k - b_z) - 1 - ──────────⎟ + x_z⋅⎜──────── - log⎜─\n",
       "⋅T         ⎝R⋅T⎠                           R⋅T⋅V_j__k⎠       ⎝  R⋅T         ⎝R\n",
       "\n",
       "P ⎞                              a_z    ⎞\n",
       "──⎟ - log(V_z__k - b_z) - 1 - ──────────⎟\n",
       "⋅T⎠                           R⋅T⋅V_z__k⎠"
      ]
     },
     "metadata": {},
     "output_type": "display_data"
    }
   ],
   "source": [
    "g_i_R_k_func = x_z * (P * V_z_k / (R * T) - 1 - ln(P / (R * T)) - ln(V_z_k - b_z) - a_z /(R * T * V_z_k) )\n",
    "g_i_R_k_func+= x_j * (P * V_j_k / (R * T) - 1 - ln(P / (R * T)) - ln(V_j_k - b_z) - a_j /(R * T * V_j_k) )\n",
    "g_i_R_k_func+= Sigma_n_i * x_i * (P * V_i_k / (R * T) - 1 - ln(P / (R * T)) - ln(V_i_k - b_z) - a_i /(R * T * V_i_k) )\n",
    "g_i_R_k_func"
   ]
  },
  {
   "cell_type": "code",
   "execution_count": 48,
   "metadata": {},
   "outputs": [
    {
     "data": {
      "image/png": "[encoded data removed]",
      "text/plain": [
       "         ⎛P⋅V_i__k      ⎛ P ⎞                               aᵢ    ⎞       ⎛P⋅V\n",
       "Σⁿᵢ₌₁⋅xᵢ⋅⎜──────── - log⎜───⎟ - log(V_i__k - b_z) - 1 - ──────────⎟ + x_z⋅⎜───\n",
       "         ⎝  R⋅T         ⎝R⋅T⎠                           R⋅T⋅V_i__k⎠       ⎝  R\n",
       "\n",
       "_z__k      ⎛ P ⎞                              a_z    ⎞                        \n",
       "───── - log⎜───⎟ - log(V_z__k - b_z) - 1 - ──────────⎟ + (-Σⁿᵢ₌₁⋅xᵢ - x_z + 1)\n",
       "⋅T         ⎝R⋅T⎠                           R⋅T⋅V_z__k⎠                        \n",
       "\n",
       " ⎛P⋅V_j__k      ⎛ P ⎞                              a_j    ⎞\n",
       "⋅⎜──────── - log⎜───⎟ - log(V_j__k - b_z) - 1 - ──────────⎟\n",
       " ⎝  R⋅T         ⎝R⋅T⎠                           R⋅T⋅V_j__k⎠"
      ]
     },
     "metadata": {},
     "output_type": "display_data"
    }
   ],
   "source": [
    "g_i_R_k_func = g_i_R_k_func.subs(x_j, x_j_func )\n",
    "g_i_R_k_func"
   ]
  },
  {
   "cell_type": "code",
   "execution_count": 49,
   "metadata": {},
   "outputs": [
    {
     "data": {
      "image/png": "[encoded data removed]",
      "text/plain": [
       "  P⋅V_j__k   P⋅V_z__k                                              a_z        \n",
       "- ──────── + ──────── + log(V_j__k - b_z) - log(V_z__k - b_z) - ────────── + ─\n",
       "    R⋅T        R⋅T                                              R⋅T⋅V_z__k   R\n",
       "\n",
       "  a_j    \n",
       "─────────\n",
       "⋅T⋅V_j__k"
      ]
     },
     "metadata": {},
     "output_type": "display_data"
    }
   ],
   "source": [
    "diff(g_i_R_k_func, x_z) # Validated against hand calculations"
   ]
  },
  {
   "cell_type": "code",
   "execution_count": 50,
   "metadata": {},
   "outputs": [
    {
     "data": {
      "image/png": "[encoded data removed]",
      "text/plain": [
       "0"
      ]
     },
     "metadata": {},
     "output_type": "display_data"
    }
   ],
   "source": [
    "diff(g_i_R_k_func, x_z, x_z) # Validated against hand calculations"
   ]
  },
  {
   "cell_type": "markdown",
   "metadata": {},
   "source": [
    "## Mixture Term"
   ]
  },
  {
   "cell_type": "code",
   "execution_count": 51,
   "metadata": {},
   "outputs": [
    {
     "data": {
      "image/png": "[encoded data removed]",
      "text/plain": [
       "P⋅V_mix__k(x_z)      ⎛ P ⎞                                             a_mix(x\n",
       "─────────────── - log⎜───⎟ - log(V_mix__k(x_z) - b_mix(x_z)) - 1 - ───────────\n",
       "      R⋅T            ⎝R⋅T⎠                                         R⋅T⋅V_mix__\n",
       "\n",
       "_z)   \n",
       "──────\n",
       "k(x_z)"
      ]
     },
     "metadata": {},
     "output_type": "display_data"
    }
   ],
   "source": [
    "g_mix_R_k_func = P * V_mix_k(x_z) / (R * T) - 1 - ln(P / (R * T)) - ln(V_mix_k(x_z) - b_mix(x_z)) -  a_mix(x_z) /(R * T * V_mix_k(x_z))\n",
    "g_mix_R_k_func"
   ]
  },
  {
   "cell_type": "code",
   "execution_count": 52,
   "metadata": {},
   "outputs": [
    {
     "data": {
      "image/png": "[encoded data removed]",
      "text/plain": [
       "   d                     d                     d                   d          \n",
       "P⋅────(V_mix__k(x_z))   ────(V_mix__k(x_z)) - ────(b_mix(x_z))    ────(a_mix(x\n",
       "  dx_z                  dx_z                  dx_z                dx_z        \n",
       "───────────────────── - ────────────────────────────────────── - ─────────────\n",
       "         R⋅T                  V_mix__k(x_z) - b_mix(x_z)         R⋅T⋅V_mix__k(\n",
       "                                                                              \n",
       "\n",
       "                   d                 \n",
       "_z))   a_mix(x_z)⋅────(V_mix__k(x_z))\n",
       "                  dx_z               \n",
       "──── + ──────────────────────────────\n",
       "x_z)                     2           \n",
       "             R⋅T⋅V_mix__k (x_z)      "
      ]
     },
     "metadata": {},
     "output_type": "display_data"
    }
   ],
   "source": [
    "diff(g_mix_R_k_func, x_z) # Validated against hand calculations"
   ]
  },
  {
   "cell_type": "code",
   "execution_count": 53,
   "metadata": {},
   "outputs": [
    {
     "data": {
      "image/png": "[encoded data removed]",
      "text/plain": [
       "     2                      2                      2                          \n",
       "    d                      d                      d                           \n",
       "P⋅─────(V_mix__k(x_z))   ─────(V_mix__k(x_z)) - ─────(b_mix(x_z))   ⎛ d       \n",
       "      2                      2                      2               ⎜────(V_mi\n",
       "  dx_z                   dx_z                   dx_z                ⎝dx_z     \n",
       "────────────────────── - ──────────────────────────────────────── + ──────────\n",
       "         R⋅T                    V_mix__k(x_z) - b_mix(x_z)                    \n",
       "                                                                          (V_m\n",
       "\n",
       "                                     2                              2         \n",
       "                              2     d                              d          \n",
       "              d              ⎞    ─────(a_mix(x_z))   a_mix(x_z)⋅─────(V_mix__\n",
       "x__k(x_z)) - ────(b_mix(x_z))⎟        2                              2        \n",
       "             dx_z            ⎠    dx_z                           dx_z         \n",
       "─────────────────────────────── - ───────────────── + ────────────────────────\n",
       "                        2         R⋅T⋅V_mix__k(x_z)                      2    \n",
       "ix__k(x_z) - b_mix(x_z))                                     R⋅T⋅V_mix__k (x_z\n",
       "\n",
       "                                                                              \n",
       "                                                                              \n",
       "k(x_z))      d                   d                              ⎛ d           \n",
       "          2⋅────(V_mix__k(x_z))⋅────(a_mix(x_z))   2⋅a_mix(x_z)⋅⎜────(V_mix__k\n",
       "            dx_z                dx_z                            ⎝dx_z         \n",
       "─────── + ────────────────────────────────────── - ───────────────────────────\n",
       "                                2                                       3     \n",
       ")                   R⋅T⋅V_mix__k (x_z)                      R⋅T⋅V_mix__k (x_z)\n",
       "\n",
       "        \n",
       "       2\n",
       "      ⎞ \n",
       "(x_z))⎟ \n",
       "      ⎠ \n",
       "────────\n",
       "        \n",
       "        "
      ]
     },
     "metadata": {},
     "output_type": "display_data"
    }
   ],
   "source": [
    "diff(g_mix_R_k_func, x_z, x_z) # TODO CHECK LATEX"
   ]
  },
  {
   "cell_type": "markdown",
   "metadata": {},
   "source": [
    "# Differential Functionals"
   ]
  },
  {
   "cell_type": "markdown",
   "metadata": {},
   "source": [
    "## a_mix"
   ]
  },
  {
   "cell_type": "code",
   "execution_count": 54,
   "metadata": {},
   "outputs": [
    {
     "data": {
      "image/png": "[encoded data removed]",
      "text/plain": [
       "Σⁿᵢ₌₁"
      ]
     },
     "metadata": {},
     "output_type": "display_data"
    }
   ],
   "source": [
    "Sigma_n_i"
   ]
  },
  {
   "cell_type": "markdown",
   "metadata": {},
   "source": [
    "## b_mix practice"
   ]
  },
  {
   "cell_type": "code",
   "execution_count": 55,
   "metadata": {
    "collapsed": true
   },
   "outputs": [],
   "source": [
    "b_j, b_z, b_i, x_i, x_z = symbols('b_j, b_z, b_i, x_i, x_z')"
   ]
  },
  {
   "cell_type": "code",
   "execution_count": 56,
   "metadata": {},
   "outputs": [
    {
     "data": {
      "image/png": "[encoded data removed]",
      "text/plain": [
       "Σⁿᵢ₌₁⋅bᵢ⋅xᵢ + b_j⋅(-Σⁿᵢ₌₁⋅xᵢ - x_z + 1) + b_z⋅x_z"
      ]
     },
     "metadata": {},
     "output_type": "display_data"
    }
   ],
   "source": [
    "b_mix_func = x_z * b_z + (1 - x_z - Sigma_n_i * x_i) * b_j + Sigma_n_i * x_i * b_i\n",
    "b_mix_func"
   ]
  },
  {
   "cell_type": "code",
   "execution_count": 57,
   "metadata": {},
   "outputs": [
    {
     "data": {
      "image/png": "[encoded data removed]",
      "text/plain": [
       "-b_j + b_z"
      ]
     },
     "metadata": {},
     "output_type": "display_data"
    }
   ],
   "source": [
    "diff(b_mix_func , x_z) # Validated against hand calculations"
   ]
  },
  {
   "cell_type": "code",
   "execution_count": 58,
   "metadata": {},
   "outputs": [
    {
     "data": {
      "image/png": "[encoded data removed]",
      "text/plain": [
       "0"
      ]
     },
     "metadata": {},
     "output_type": "display_data"
    }
   ],
   "source": [
    "diff(b_mix_func , x_z, x_z) # Validated against hand calculations"
   ]
  },
  {
   "cell_type": "markdown",
   "metadata": {},
   "source": [
    "# Volume Terms"
   ]
  },
  {
   "cell_type": "markdown",
   "metadata": {},
   "source": [
    "######  (Here be Dragons)"
   ]
  },
  {
   "cell_type": "code",
   "execution_count": 62,
   "metadata": {
    "collapsed": true
   },
   "outputs": [],
   "source": [
    "C_1 = - ( (R * T / P) + b_mix(x_z))\n",
    "C_2 = a_mix(x_z) / P\n",
    "C_3 = - (a_mix(x_z) * b_mix(x_z)) / P"
   ]
  },
  {
   "cell_type": "code",
   "execution_count": 63,
   "metadata": {},
   "outputs": [
    {
     "data": {
      "image/png": "[encoded data removed]",
      "text/plain": [
       "                                          2                 \n",
       "                       ⎛              R⋅T⎞    1.0⋅a_mix(x_z)\n",
       "- - -0.333333333333333⋅⎜-b_mix(x_z) - ───⎟  + ──────────────\n",
       "                       ⎝               P ⎠          P       "
      ]
     },
     "metadata": {},
     "output_type": "display_data"
    }
   ],
   "source": [
    "w = (3 * C_2 - C_1 **2) /3.0\n",
    "w"
   ]
  },
  {
   "cell_type": "code",
   "execution_count": 64,
   "metadata": {},
   "outputs": [
    {
     "data": {
      "image/png": "[encoded data removed]",
      "text/plain": [
       "                       ⎛                9⋅R⋅T⎞                                \n",
       "  - -0.037037037037037⋅⎜-9⋅b_mix(x_z) - ─────⎟⋅a_mix(x_z)                     \n",
       "                       ⎝                  P  ⎠               - -1.0⋅a_mix(x_z)\n",
       "- ──────────────────────────────────────────────────────── - ─────────────────\n",
       "                             P                                             P  \n",
       "                                                                              \n",
       "\n",
       "                                             \n",
       "                                       3     \n",
       "⋅b_mix(x_z)    0.0740740740740741⋅a_mix (x_z)\n",
       "──────────── + ──────────────────────────────\n",
       "                              3              \n",
       "                             P               "
      ]
     },
     "metadata": {},
     "output_type": "display_data"
    }
   ],
   "source": [
    "q = (27 * C_3 - 9 * C_1 * C_2 + 2 * C_2 **3) / 27.0\n",
    "q"
   ]
  },
  {
   "cell_type": "code",
   "execution_count": 65,
   "metadata": {},
   "outputs": [
    {
     "data": {
      "image/png": "[encoded data removed]",
      "text/plain": [
       "                        ⎛                9⋅R⋅T⎞                               \n",
       "   - -0.037037037037037⋅⎜-9⋅b_mix(x_z) - ─────⎟⋅a_mix(x_z)                    \n",
       "                        ⎝                  P  ⎠               - -1.0⋅a_mix(x_z\n",
       " - ──────────────────────────────────────────────────────── - ────────────────\n",
       "                              P                                             P \n",
       "                                                                              \n",
       "──────────────────────────────────────────────────────────────────────────────\n",
       "│                       ⎛                9⋅R⋅T⎞                               \n",
       "│  - -0.037037037037037⋅⎜-9⋅b_mix(x_z) - ─────⎟⋅a_mix(x_z)                    \n",
       "│                       ⎝                  P  ⎠               - -1.0⋅a_mix(x_z\n",
       "│- ──────────────────────────────────────────────────────── - ────────────────\n",
       "│                             P                                             P \n",
       "│                                                                             \n",
       "\n",
       "                                               \n",
       "                                        3      \n",
       ")⋅b_mix(x_z)    0.0740740740740741⋅a_mix (x_z) \n",
       "───────────── + ────────────────────────────── \n",
       "                               3               \n",
       "                              P                \n",
       "───────────────────────────────────────────────\n",
       "                                              │\n",
       "                                        3     │\n",
       ")⋅b_mix(x_z)    0.0740740740740741⋅a_mix (x_z)│\n",
       "───────────── + ──────────────────────────────│\n",
       "                               3              │\n",
       "                              P               │"
      ]
     },
     "metadata": {},
     "output_type": "display_data"
    }
   ],
   "source": [
    "q_s = q /abs(q) # math.copysign\n",
    "q_s"
   ]
  },
  {
   "cell_type": "code",
   "execution_count": 66,
   "metadata": {},
   "outputs": [
    {
     "data": {
      "image/png": "[encoded data removed]",
      "text/plain": [
       "    ⎛              ___________________________________________________________\n",
       "    ⎜             ╱                                                           \n",
       "    ⎜            ╱  ⎛                        ⎛                9⋅R⋅T⎞          \n",
       "    ⎜           ╱   ⎜  - -0.0185185185185185⋅⎜-9⋅b_mix(x_z) - ─────⎟⋅a_mix(x_z\n",
       "    ⎜          ╱    ⎜                        ⎝                  P  ⎠          \n",
       "    ⎜         ╱     ⎜- ───────────────────────────────────────────────────────\n",
       "    ⎜        ╱      ⎜                              P                          \n",
       "    ⎜       ╱       ⎝                                                         \n",
       "    ⎜      ╱        ──────────────────────────────────────────────────────────\n",
       "    ⎜     ╱                                                                   \n",
       "    ⎜    ╱                                  ⎛                                 \n",
       "    ⎜   ╱                                   ⎜                       ⎛         \n",
       "    ⎜  ╱                                    ⎜- - -0.111111111111111⋅⎜-b_mix(x_\n",
       "    ⎝╲╱                                     ⎝                       ⎝         \n",
       "acos                                                                          \n",
       "\n",
       "_____________________________________________________________________⎞\n",
       "                                                                   2 ⎟\n",
       "                                                                  ⎞  ⎟\n",
       ")                                                           3     ⎟  ⎟\n",
       "     - -0.5⋅a_mix(x_z)⋅b_mix(x_z)    0.037037037037037⋅a_mix (x_z)⎟  ⎟\n",
       "── - ───────────────────────────── + ─────────────────────────────⎟  ⎟\n",
       "                   P                                3             ⎟  ⎟\n",
       "                                                   P              ⎠  ⎟\n",
       "──────────────────────────────────────────────────────────────────── ⎟\n",
       "                                          3                          ⎟\n",
       "         2                               ⎞                           ⎟\n",
       "     R⋅T⎞    0.333333333333333⋅a_mix(x_z)⎟                           ⎟\n",
       "z) - ───⎟  + ────────────────────────────⎟                           ⎟\n",
       "      P ⎠                 P              ⎠                           ⎠\n",
       "                                                                      "
      ]
     },
     "metadata": {},
     "output_type": "display_data"
    }
   ],
   "source": [
    "#from math import acos\n",
    "phi = acos(sqrt(( ((q/2.0)**2)/(w/3.0)**3) ))\n",
    "phi"
   ]
  },
  {
   "cell_type": "code",
   "execution_count": 67,
   "metadata": {},
   "outputs": [
    {
     "data": {
      "image/png": "[encoded data removed]",
      "text/plain": [
       "                                                                              \n",
       "                                                                              \n",
       "                                                                              \n",
       "                                                                              \n",
       "                                                                              \n",
       "         _____________________________________________________________________\n",
       "        ╱                                      2                              \n",
       "       ╱                    ⎛              R⋅T⎞    - -0.333333333333333⋅a_mix(\n",
       "  2⋅  ╱   0.111111111111111⋅⎜-b_mix(x_z) - ───⎟  - ───────────────────────────\n",
       "    ╲╱                      ⎝               P ⎠                   P           \n",
       "                                                                              \n",
       "                                                                              \n",
       "                                                                              \n",
       "                                                                              \n",
       "                                                                              \n",
       "- ────────────────────────────────────────────────────────────────────────────\n",
       "                                                                              \n",
       "                                                                              \n",
       "                                                                              \n",
       "                                                                              \n",
       "                                                                              \n",
       "                                                                              \n",
       "\n",
       "                                                                              \n",
       "                                                                              \n",
       "                                                                              \n",
       "                                                                              \n",
       "                                                                              \n",
       "______ ⎛                       ⎛                9⋅R⋅T⎞                        \n",
       "       ⎜  - -0.037037037037037⋅⎜-9⋅b_mix(x_z) - ─────⎟⋅a_mix(x_z)             \n",
       "x_z)   ⎜                       ⎝                  P  ⎠               - -1.0⋅a_\n",
       "───── ⋅⎜- ──────────────────────────────────────────────────────── - ─────────\n",
       "       ⎜                             P                                        \n",
       "       ⎝                                                                      \n",
       "                                                                              \n",
       "                                                                              \n",
       "                                                                              \n",
       "                                                                              \n",
       "──────────────────────────────────────────────────────────────────────────────\n",
       "                                                   │                       ⎛  \n",
       "                                                   │  - -0.037037037037037⋅⎜-9\n",
       "                                                   │                       ⎝  \n",
       "                                                   │- ────────────────────────\n",
       "                                                   │                          \n",
       "                                                   │                          \n",
       "\n",
       "                                                          ⎛                   \n",
       "                                                          ⎜                   \n",
       "                                                          ⎜                   \n",
       "                                                          ⎜                   \n",
       "                                                          ⎜                   \n",
       "                                                     ⎞    ⎜                   \n",
       "                                               3     ⎟    ⎜                   \n",
       "mix(x_z)⋅b_mix(x_z)    0.0740740740740741⋅a_mix (x_z)⎟    ⎜                   \n",
       "──────────────────── + ──────────────────────────────⎟⋅   ⎜0.333333333333333⋅ \n",
       "     P                                3              ⎟    ⎜                   \n",
       "                                     P               ⎠    ⎜                   \n",
       "                                                          ⎜                   \n",
       "                                                          ⎜                   \n",
       "                                                          ⎜                   \n",
       "                                                       cos⎝                  a\n",
       "──────────────────────────────────────────────────────────────────────────────\n",
       "              9⋅R⋅T⎞                                                          \n",
       "⋅b_mix(x_z) - ─────⎟⋅a_mix(x_z)                                               \n",
       "                P  ⎠               - -1.0⋅a_mix(x_z)⋅b_mix(x_z)    0.074074074\n",
       "──────────────────────────────── - ───────────────────────────── + ───────────\n",
       "   P                                             P                            \n",
       "                                                                              \n",
       "\n",
       "   ⎛              ____________________________________________________________\n",
       "   ⎜             ╱                                                            \n",
       "   ⎜            ╱  ⎛                        ⎛                9⋅R⋅T⎞           \n",
       "   ⎜           ╱   ⎜  - -0.0185185185185185⋅⎜-9⋅b_mix(x_z) - ─────⎟⋅a_mix(x_z)\n",
       "   ⎜          ╱    ⎜                        ⎝                  P  ⎠           \n",
       "   ⎜         ╱     ⎜- ────────────────────────────────────────────────────────\n",
       "   ⎜        ╱      ⎜                              P                           \n",
       "   ⎜       ╱       ⎝                                                          \n",
       "   ⎜      ╱        ───────────────────────────────────────────────────────────\n",
       "   ⎜     ╱                                                                    \n",
       "   ⎜    ╱                                  ⎛                                  \n",
       "   ⎜   ╱                                   ⎜                       ⎛          \n",
       "   ⎜  ╱                                    ⎜- - -0.111111111111111⋅⎜-b_mix(x_z\n",
       "   ⎝╲╱                                     ⎝                       ⎝          \n",
       "cos                                                                           \n",
       "──────────────────────────────────────────────────────────────────────────────\n",
       "                   │                                                          \n",
       "             3     │                                                          \n",
       "0740741⋅a_mix (x_z)│                                                          \n",
       "───────────────────│                                                          \n",
       "    3              │                                                          \n",
       "   P               │                                                          \n",
       "\n",
       "____________________________________________________________________⎞⎞        \n",
       "                                                                  2 ⎟⎟        \n",
       "                                                                 ⎞  ⎟⎟        \n",
       "                                                           3     ⎟  ⎟⎟        \n",
       "    - -0.5⋅a_mix(x_z)⋅b_mix(x_z)    0.037037037037037⋅a_mix (x_z)⎟  ⎟⎟        \n",
       "─ - ───────────────────────────── + ─────────────────────────────⎟  ⎟⎟        \n",
       "                  P                                3             ⎟  ⎟⎟        \n",
       "                                                  P              ⎠  ⎟⎟        \n",
       "─────────────────────────────────────────────────────────────────── ⎟⎟        \n",
       "                                         3                          ⎟⎟        \n",
       "        2                               ⎞                           ⎟⎟        \n",
       "    R⋅T⎞    0.333333333333333⋅a_mix(x_z)⎟                           ⎟⎟        \n",
       ") - ───⎟  + ────────────────────────────⎟                           ⎟⎟        \n",
       "     P ⎠                 P              ⎠                           ⎠⎟        \n",
       "                                                                     ⎠        \n",
       "────────────────────────────────────────────────────────────────────── + 0.333\n",
       "                                                                              \n",
       "                                                                              \n",
       "                                                                              \n",
       "                                                                              \n",
       "                                                                              \n",
       "                                                                              \n",
       "\n",
       "                                               \n",
       "                                               \n",
       "                                               \n",
       "                                               \n",
       "                                               \n",
       "                                               \n",
       "                                               \n",
       "                                               \n",
       "                                               \n",
       "                                               \n",
       "                                               \n",
       "                                               \n",
       "                                               \n",
       "                                               \n",
       "                          0.333333333333333⋅R⋅T\n",
       "333333333333⋅b_mix(x_z) + ─────────────────────\n",
       "                                    P          \n",
       "                                               \n",
       "                                               \n",
       "                                               \n",
       "                                               \n",
       "                                               "
      ]
     },
     "metadata": {},
     "output_type": "display_data"
    }
   ],
   "source": [
    "f_1 = - 2 * q_s * sqrt(- w / 3.0) * cos(phi/3.0) - C_1/3.0\n",
    "f_1"
   ]
  },
  {
   "cell_type": "code",
   "execution_count": 68,
   "metadata": {},
   "outputs": [
    {
     "data": {
      "image/png": "[encoded data removed]",
      "text/plain": [
       "                                     _________________________________________\n",
       "                                    ╱                                         \n",
       "                                   ╱  ⎛                        ⎛              \n",
       "                                  ╱   ⎜  - -0.0185185185185185⋅⎜-9⋅b_mix(x_z) \n",
       "                                 ╱    ⎜                        ⎝              \n",
       "                                ╱     ⎜- ─────────────────────────────────────\n",
       "                               ╱      ⎜                              P        \n",
       "                              ╱       ⎝                                       \n",
       "  - -0.666666666666667⋅      ╱        ────────────────────────────────────────\n",
       "                            ╱                                                 \n",
       "                           ╱                                  ⎛               \n",
       "                          ╱                                   ⎜               \n",
       "                         ╱                                    ⎜- - -0.11111111\n",
       "                       ╲╱                                     ⎝               \n",
       "                                                                              \n",
       "- ────────────────────────────────────────────────────────────────────────────\n",
       "                                                                              \n",
       "                                                                              \n",
       "                                                                              \n",
       "                                                                              \n",
       "                                                                              \n",
       "                                                                              \n",
       "                                                                              \n",
       "                                                                              \n",
       "                                                                              \n",
       "                                                                              \n",
       "                                                                              \n",
       "                                                                              \n",
       "                                                                              \n",
       "                                                                              \n",
       "\n",
       "______________________________________________________________________________\n",
       "                                                                              \n",
       "  9⋅R⋅T⎞                                                                      \n",
       "- ─────⎟⋅a_mix(x_z)                                                           \n",
       "    P  ⎠               - -0.5⋅a_mix(x_z)⋅b_mix(x_z)    0.037037037037037⋅a_mix\n",
       "──────────────────── - ───────────────────────────── + ───────────────────────\n",
       "                                     P                                3       \n",
       "                                                                     P        \n",
       "──────────────────────────────────────────────────────────────────────────────\n",
       "                                                            3                 \n",
       "                           2                               ⎞                  \n",
       "        ⎛              R⋅T⎞    0.333333333333333⋅a_mix(x_z)⎟                  \n",
       "1111111⋅⎜-b_mix(x_z) - ───⎟  + ────────────────────────────⎟                  \n",
       "        ⎝               P ⎠                 P              ⎠                  \n",
       "                                                                              \n",
       "──────────────────────────────────────────────────────────────────────────────\n",
       "                                                                              \n",
       "                                                                              \n",
       "                                                                              \n",
       "                                                                              \n",
       "                                                                              \n",
       "                                                                              \n",
       "                                                                              \n",
       "                                                                              \n",
       "                                                                              \n",
       "                                                                              \n",
       "                                                                              \n",
       "                                                                              \n",
       "                                                                              \n",
       "                                                                              \n",
       "\n",
       "_________                                                                     \n",
       "       2  ⎛                                                                   \n",
       "      ⎞   ⎜⎛                                                                  \n",
       "3     ⎟   ⎜⎜                                                              - -1\n",
       " (x_z)⎟   ⎜⎜                       ⎛              R⋅T⎞  d                     \n",
       "──────⎟   ⎜⎜- - -0.666666666666667⋅⎜-b_mix(x_z) - ───⎟⋅────(b_mix(x_z)) - ────\n",
       "      ⎟   ⎜⎝                       ⎝               P ⎠ dx_z                   \n",
       "      ⎠   ⎜                                                                   \n",
       "──────── ⋅⎜───────────────────────────────────────────────────────────────────\n",
       "          ⎜                                                                   \n",
       "          ⎜                                                                   \n",
       "          ⎜                                                                   \n",
       "          ⎜                                                                   \n",
       "          ⎝                                                                   \n",
       "                                                                              \n",
       "──────────────────────────────────────────────────────────────────────────────\n",
       "                                                                              \n",
       "                                                                              \n",
       "                                                                              \n",
       "                                                                              \n",
       "                                                                              \n",
       "                                                                              \n",
       "                                                                              \n",
       "                                                                              \n",
       "                                                                              \n",
       "                                                                              \n",
       "                                                                              \n",
       "                                                                              \n",
       "                                                                              \n",
       "                                                                              \n",
       "\n",
       "                                                                              \n",
       "                                                                              \n",
       "    d               ⎞ ⎛                        ⎛                9⋅R⋅T⎞        \n",
       ".0⋅────(a_mix(x_z)) ⎟ ⎜  - -0.0185185185185185⋅⎜-9⋅b_mix(x_z) - ─────⎟⋅a_mix(x\n",
       "   dx_z             ⎟ ⎜                        ⎝                  P  ⎠        \n",
       "────────────────────⎟⋅⎜- ─────────────────────────────────────────────────────\n",
       "       P            ⎠ ⎜                              P                        \n",
       "                      ⎝                                                       \n",
       "──────────────────────────────────────────────────────────────────────────────\n",
       "                                                                              \n",
       "   ⎛                                          2                               \n",
       "   ⎜                       ⎛              R⋅T⎞    0.333333333333333⋅a_mix(x_z)\n",
       " 2⋅⎜- - -0.111111111111111⋅⎜-b_mix(x_z) - ───⎟  + ────────────────────────────\n",
       "   ⎝                       ⎝               P ⎠                 P              \n",
       "                                                                              \n",
       "──────────────────────────────────────────────────────────────────────────────\n",
       "                                                                              \n",
       "                                                                              \n",
       "                                                                              \n",
       "                                                                              \n",
       "                                                                              \n",
       "                                                                              \n",
       "                                                                              \n",
       "                                                                              \n",
       "                                                                              \n",
       "                                                                              \n",
       "                                                                              \n",
       "                                                                              \n",
       "                                                                              \n",
       "                                                                              \n",
       "\n",
       "                                                                              \n",
       "                                                                     2        \n",
       "                                                                    ⎞    ⎛    \n",
       "_z)                                                           3     ⎟    ⎜  - \n",
       "       - -0.5⋅a_mix(x_z)⋅b_mix(x_z)    0.037037037037037⋅a_mix (x_z)⎟    ⎜    \n",
       "──── - ───────────────────────────── + ─────────────────────────────⎟    ⎜- ──\n",
       "                     P                                3             ⎟    ⎜    \n",
       "                                                     P              ⎠    ⎝    \n",
       "────────────────────────────────────────────────────────────────────── + ─────\n",
       " 4                                                                            \n",
       "⎞                                                                             \n",
       "⎟                                                                             \n",
       "⎟                                                                             \n",
       "⎠                                                                             \n",
       "                                                                              \n",
       "──────────────────────────────────────────────────────────────────────────────\n",
       "                                                                              \n",
       "                                                                              \n",
       "                                                                              \n",
       "                                                                              \n",
       "                                                                              \n",
       "                                                                              \n",
       "                                                                              \n",
       "                                                                              \n",
       "                                                                              \n",
       "                                                                              \n",
       "                                                                              \n",
       "                                                                              \n",
       "                                                                              \n",
       "                                                                             ╲\n",
       "\n",
       "                                                                              \n",
       "                                                                              \n",
       "                    ⎛                9⋅R⋅T⎞                                   \n",
       "-0.0185185185185185⋅⎜-9⋅b_mix(x_z) - ─────⎟⋅a_mix(x_z)                        \n",
       "                    ⎝                  P  ⎠               - -0.5⋅a_mix(x_z)⋅b_\n",
       "─────────────────────────────────────────────────────── - ────────────────────\n",
       "                          P                                             P     \n",
       "                                                                              \n",
       "──────────────────────────────────────────────────────────────────────────────\n",
       "                                                                              \n",
       "                                                                              \n",
       "                                                                              \n",
       "                                                                              \n",
       "                                                                              \n",
       "                                                                              \n",
       "──────────────────────────────────────────────────────────────────────────────\n",
       "             _________________________________________________________________\n",
       "            ╱                                                                 \n",
       "           ╱      ⎛                        ⎛                9⋅R⋅T⎞            \n",
       "          ╱       ⎜  - -0.0185185185185185⋅⎜-9⋅b_mix(x_z) - ─────⎟⋅a_mix(x_z) \n",
       "         ╱        ⎜                        ⎝                  P  ⎠            \n",
       "        ╱         ⎜- ─────────────────────────────────────────────────────────\n",
       "       ╱          ⎜                              P                            \n",
       "      ╱           ⎝                                                           \n",
       "     ╱        1 - ────────────────────────────────────────────────────────────\n",
       "    ╱                                                                         \n",
       "   ╱                                      ⎛                                   \n",
       "  ╱                                       ⎜                       ⎛           \n",
       " ╱                                        ⎜- - -0.111111111111111⋅⎜-b_mix(x_z)\n",
       "╱                                         ⎝                       ⎝           \n",
       "\n",
       "                                                                              \n",
       "                                                                              \n",
       "                                         ⎞ ⎛                       ⎛          \n",
       "                                   3     ⎟ ⎜  - -0.037037037037037⋅⎜-9⋅b_mix(x\n",
       "mix(x_z)    0.037037037037037⋅a_mix (x_z)⎟ ⎜                       ⎝          \n",
       "───────── + ─────────────────────────────⎟⋅⎜- ────────────────────────────────\n",
       "                           3             ⎟ ⎜                                P \n",
       "                          P              ⎠ ⎝                                  \n",
       "──────────────────────────────────────────────────────────────────────────────\n",
       "                                                                              \n",
       "                                             ⎛                                \n",
       "                                             ⎜                       ⎛        \n",
       "                                           2⋅⎜- - -0.111111111111111⋅⎜-b_mix(x\n",
       "                                             ⎝                       ⎝        \n",
       "                                                                              \n",
       "──────────────────────────────────────────────────────────────────────────────\n",
       "___________________________________________________________________           \n",
       "                                                                 2            \n",
       "                                                                ⎞             \n",
       "                                                          3     ⎟             \n",
       "   - -0.5⋅a_mix(x_z)⋅b_mix(x_z)    0.037037037037037⋅a_mix (x_z)⎟             \n",
       " - ───────────────────────────── + ─────────────────────────────⎟   ⎛         \n",
       "                 P                                3             ⎟   ⎜  - -0.01\n",
       "                                                 P              ⎠   ⎜         \n",
       "────────────────────────────────────────────────────────────────── ⋅⎜- ───────\n",
       "                                        3                           ⎜         \n",
       "       2                               ⎞                            ⎝         \n",
       "   R⋅T⎞    0.333333333333333⋅a_mix(x_z)⎟                                      \n",
       " - ───⎟  + ────────────────────────────⎟                                      \n",
       "    P ⎠                 P              ⎠                                      \n",
       "\n",
       "                                                                              \n",
       "                                                                              \n",
       "      9⋅R⋅T⎞  d                                                   d           \n",
       "_z) - ─────⎟⋅────(a_mix(x_z))    - -0.666666666666667⋅a_mix(x_z)⋅────(b_mix(x_\n",
       "        P  ⎠ dx_z                                                dx_z         \n",
       "────────────────────────────── - ─────────────────────────────────────────────\n",
       "                                                         P                    \n",
       "                                                                              \n",
       "──────────────────────────────────────────────────────────────────────────────\n",
       "                                           3                                  \n",
       "          2                               ⎞                                   \n",
       "      R⋅T⎞    0.333333333333333⋅a_mix(x_z)⎟                                   \n",
       "_z) - ───⎟  + ────────────────────────────⎟                                   \n",
       "       P ⎠                 P              ⎠                                   \n",
       "                                                                              \n",
       "──────────────────────────────────────────────────────────────────────────────\n",
       "                                                                              \n",
       "                                                                              \n",
       "                                                                              \n",
       "                                                                              \n",
       "                                                                              \n",
       "               ⎛                9⋅R⋅T⎞                                        \n",
       "85185185185185⋅⎜-9⋅b_mix(x_z) - ─────⎟⋅a_mix(x_z)                             \n",
       "               ⎝                  P  ⎠               - -0.5⋅a_mix(x_z)⋅b_mix(x\n",
       "────────────────────────────────────────────────── - ─────────────────────────\n",
       "                     P                                             P          \n",
       "                                                                              \n",
       "                                                                              \n",
       "                                                                              \n",
       "                                                                              \n",
       "\n",
       "                                                                              \n",
       "                                                                              \n",
       "                          d                                         2       d \n",
       "z))    - -1.0⋅b_mix(x_z)⋅────(a_mix(x_z))    0.222222222222222⋅a_mix (x_z)⋅───\n",
       "                         dx_z                                              dx_\n",
       "──── - ─────────────────────────────────── + ─────────────────────────────────\n",
       "                        P                                           3         \n",
       "                                                                   P          \n",
       "──────────────────────────────────────────────────────────────────────────────\n",
       "                                                                              \n",
       "                                                                              \n",
       "                                                                              \n",
       "                                                                              \n",
       "                                                                              \n",
       "                                                                              \n",
       "──────────────────────────────────────────────────────────────────────────────\n",
       "                                                                              \n",
       "                                                                              \n",
       "                                                                              \n",
       "                                                                              \n",
       "                                     2                                        \n",
       "                                    ⎞  │                       ⎛              \n",
       "                              3     ⎟  │  - -0.037037037037037⋅⎜-9⋅b_mix(x_z) \n",
       "_z)    0.037037037037037⋅a_mix (x_z)⎟  │                       ⎝              \n",
       "──── + ─────────────────────────────⎟ ⋅│- ────────────────────────────────────\n",
       "                      3             ⎟  │                             P        \n",
       "                     P              ⎠  │                                      \n",
       "                                                                              \n",
       "                                                                              \n",
       "                                                                              \n",
       "\n",
       "                                                                              \n",
       "              ⎞                                                               \n",
       "             ⎞⎟                                                               \n",
       "─(a_mix(x_z))⎟⎟                                                               \n",
       "z            ⎟⎟                                                               \n",
       "─────────────⎟⎟                                                               \n",
       "             ⎟⎟ ⎛                                          2                  \n",
       "             ⎠⎟ ⎜                       ⎛              R⋅T⎞    0.3333333333333\n",
       "──────────────⎟⋅⎜- - -0.111111111111111⋅⎜-b_mix(x_z) - ───⎟  + ───────────────\n",
       "              ⎟ ⎝                       ⎝               P ⎠                 P \n",
       "              ⎟                                                               \n",
       "              ⎟                                                               \n",
       "              ⎟                                                               \n",
       "              ⎠                                                               \n",
       "                                                                              \n",
       "──────────────────────────────────────────────────────────────────────────────\n",
       "                                                                              \n",
       "                                                                              \n",
       "                                                                              \n",
       "                                                                              \n",
       "                                                                              \n",
       "  9⋅R⋅T⎞                                                                      \n",
       "- ─────⎟⋅a_mix(x_z)                                                           \n",
       "    P  ⎠               - -1.0⋅a_mix(x_z)⋅b_mix(x_z)    0.0740740740740741⋅a_mi\n",
       "──────────────────── - ───────────────────────────── + ───────────────────────\n",
       "                                     P                                3       \n",
       "                                                                     P        \n",
       "                                                                              \n",
       "                                                                              \n",
       "                                                                              \n",
       "\n",
       "                                                                              \n",
       "                                                                              \n",
       "                                                                              \n",
       "                                                                              \n",
       "                                                                              \n",
       "              3      _________________________________________________________\n",
       "             ⎞      ╱                                      2                  \n",
       "33⋅a_mix(x_z)⎟     ╱                    ⎛              R⋅T⎞    - -0.3333333333\n",
       "─────────────⎟ ⋅  ╱   0.111111111111111⋅⎜-b_mix(x_z) - ───⎟  - ───────────────\n",
       "             ⎠  ╲╱                      ⎝               P ⎠                   \n",
       "                                                                              \n",
       "                                                                              \n",
       "                                                                              \n",
       "                                                                              \n",
       "                                                                              \n",
       "──────────────────────────────────────────────────────────────────────────────\n",
       "                                                                              \n",
       "                                                                              \n",
       "                                                                              \n",
       "                                                                              \n",
       "                                                                              \n",
       "       │                                                                      \n",
       " 3     │                                                                      \n",
       "x (x_z)│                                                                      \n",
       "───────│                                                                      \n",
       "       │                                                                      \n",
       "       │                                                                      \n",
       "                                                                              \n",
       "                                                                              \n",
       "                                                                              \n",
       "\n",
       "                                                                              \n",
       "                                                                              \n",
       "                                                                              \n",
       "                                                                              \n",
       "                                                                              \n",
       "__________________ ⎛                       ⎛                9⋅R⋅T⎞            \n",
       "                   ⎜  - -0.037037037037037⋅⎜-9⋅b_mix(x_z) - ─────⎟⋅a_mix(x_z) \n",
       "33333⋅a_mix(x_z)   ⎜                       ⎝                  P  ⎠            \n",
       "───────────────── ⋅⎜- ────────────────────────────────────────────────────────\n",
       "P                  ⎜                             P                            \n",
       "                   ⎝                                                          \n",
       "                                                                              \n",
       "                                                                              \n",
       "                                                                              \n",
       "                                                                              \n",
       "──────────────────────────────────────────────────────────────────────────────\n",
       "                                                                              \n",
       "                                                                              \n",
       "                                                                              \n",
       "                                                                              \n",
       "                                                                              \n",
       "                                                                              \n",
       "                                                                              \n",
       "                                                                              \n",
       "                                                                              \n",
       "                                                                              \n",
       "                                                                              \n",
       "                                                                              \n",
       "                                                                              \n",
       "                                                                              \n",
       "\n",
       "                                                                      ⎛       \n",
       "                                                                      ⎜       \n",
       "                                                                      ⎜       \n",
       "                                                                      ⎜       \n",
       "                                                                      ⎜       \n",
       "                                                                 ⎞    ⎜       \n",
       "                                                           3     ⎟    ⎜       \n",
       "   - -1.0⋅a_mix(x_z)⋅b_mix(x_z)    0.0740740740740741⋅a_mix (x_z)⎟    ⎜       \n",
       " - ───────────────────────────── + ──────────────────────────────⎟⋅   ⎜0.33333\n",
       "                 P                                3              ⎟    ⎜       \n",
       "                                                 P               ⎠    ⎜       \n",
       "                                                                      ⎜       \n",
       "                                                                      ⎜       \n",
       "                                                                      ⎜       \n",
       "                                                                   sin⎝       \n",
       "──────────────────────────────────────────────────────────────────────────────\n",
       "                                                                              \n",
       "                                                                              \n",
       "                                                                              \n",
       "                                                                              \n",
       "                                                                              \n",
       "                                                                              \n",
       "                                                                              \n",
       "                                                                              \n",
       "                                                                              \n",
       "                                                                              \n",
       "                                                                              \n",
       "                                                                              \n",
       "                                                                              \n",
       "                                                                              \n",
       "\n",
       "               ⎛              ________________________________________________\n",
       "               ⎜             ╱                                                \n",
       "               ⎜            ╱  ⎛                        ⎛                9⋅R⋅T\n",
       "               ⎜           ╱   ⎜  - -0.0185185185185185⋅⎜-9⋅b_mix(x_z) - ─────\n",
       "               ⎜          ╱    ⎜                        ⎝                  P  \n",
       "               ⎜         ╱     ⎜- ────────────────────────────────────────────\n",
       "               ⎜        ╱      ⎜                              P               \n",
       "               ⎜       ╱       ⎝                                              \n",
       "3333333333⋅    ⎜      ╱        ───────────────────────────────────────────────\n",
       "               ⎜     ╱                                                        \n",
       "               ⎜    ╱                                  ⎛                      \n",
       "               ⎜   ╱                                   ⎜                      \n",
       "               ⎜  ╱                                    ⎜- - -0.111111111111111\n",
       "               ⎝╲╱                                     ⎝                      \n",
       "           acos                                                               \n",
       "──────────────────────────────────────────────────────────────────────────────\n",
       "                                                                              \n",
       "                                                                              \n",
       "                                                                              \n",
       "                                                                              \n",
       "                                                                              \n",
       "                                                                              \n",
       "                                                                              \n",
       "                                                                              \n",
       "                                                                              \n",
       "                                                                              \n",
       "                                                                              \n",
       "                                                                              \n",
       "                                                                              \n",
       "                                                                              \n",
       "\n",
       "______________________________________________________________________________\n",
       "                                                                              \n",
       "⎞                                                                            ⎞\n",
       "⎟⋅a_mix(x_z)                                                           3     ⎟\n",
       "⎠               - -0.5⋅a_mix(x_z)⋅b_mix(x_z)    0.037037037037037⋅a_mix (x_z)⎟\n",
       "───────────── - ───────────────────────────── + ─────────────────────────────⎟\n",
       "                              P                                3             ⎟\n",
       "                                                              P              ⎠\n",
       "──────────────────────────────────────────────────────────────────────────────\n",
       "                                                     3                        \n",
       "                    2                               ⎞                         \n",
       " ⎛              R⋅T⎞    0.333333333333333⋅a_mix(x_z)⎟                         \n",
       "⋅⎜-b_mix(x_z) - ───⎟  + ────────────────────────────⎟                         \n",
       " ⎝               P ⎠                 P              ⎠                         \n",
       "                                                                              \n",
       "──────────────────────────────────────────────────────────────────────────────\n",
       "                                                                              \n",
       "                                                                              \n",
       "                                                                              \n",
       "                                                                              \n",
       "                                                                              \n",
       "                                                                              \n",
       "                                                                              \n",
       "                                                                              \n",
       "                                                                              \n",
       "                                                                              \n",
       "                                                                              \n",
       "                                                                              \n",
       "                                                                              \n",
       "                                                                              \n",
       "\n",
       "__⎞⎞                                                                          \n",
       "2 ⎟⎟                                                                          \n",
       "  ⎟⎟                                                                          \n",
       "  ⎟⎟                                                                          \n",
       "  ⎟⎟                                                                          \n",
       "  ⎟⎟      ⎛                                                                   \n",
       "  ⎟⎟      ⎜                                                              - -0.\n",
       "  ⎟⎟      ⎜                       ⎛              R⋅T⎞  d                      \n",
       "─ ⎟⎟    2⋅⎜- - -0.111111111111111⋅⎜-b_mix(x_z) - ───⎟⋅────(b_mix(x_z)) - ─────\n",
       "  ⎟⎟      ⎝                       ⎝               P ⎠ dx_z                    \n",
       "  ⎟⎟                                                                          \n",
       "  ⎟⎟                                                                          \n",
       "  ⎟⎟                                                                          \n",
       "  ⎠⎟                                                                          \n",
       "   ⎠                                                                          \n",
       "───── - ──────────────────────────────────────────────────────────────────────\n",
       "                                                                              \n",
       "                                                                              \n",
       "                                                                              \n",
       "                                                                              \n",
       "                                                                              \n",
       "                                                                              \n",
       "                                                                              \n",
       "                                                                              \n",
       "                                                                              \n",
       "                                                                              \n",
       "                                                                              \n",
       "                                                                              \n",
       "                                                                              \n",
       "                                                                              \n",
       "\n",
       "                                                                              \n",
       "                                                                              \n",
       "                                                                              \n",
       "                                                                              \n",
       "                                                                              \n",
       "                 d               ⎞ ⎛                       ⎛                9⋅\n",
       "166666666666667⋅────(a_mix(x_z)) ⎟ ⎜  - -0.037037037037037⋅⎜-9⋅b_mix(x_z) - ──\n",
       "                dx_z             ⎟ ⎜                       ⎝                  \n",
       "─────────────────────────────────⎟⋅⎜- ────────────────────────────────────────\n",
       "             P                   ⎠ ⎜                             P            \n",
       "                                   ⎝                                          \n",
       "                                                                              \n",
       "                                                                              \n",
       "                                                                              \n",
       "                                                                              \n",
       "──────────────────────────────────────────────────────────────────────────────\n",
       "                                 _____________________________________________\n",
       "                                ╱                                      2      \n",
       "                               ╱                    ⎛              R⋅T⎞    - -\n",
       "                              ╱   0.111111111111111⋅⎜-b_mix(x_z) - ───⎟  - ───\n",
       "                            ╲╱                      ⎝               P ⎠       \n",
       "                                                                              \n",
       "                                                                              \n",
       "                                                                              \n",
       "                                                                              \n",
       "                                                                              \n",
       "                                                                              \n",
       "                                                                              \n",
       "                                                                              \n",
       "                                                                              \n",
       "\n",
       "                                                                              \n",
       "                                                                              \n",
       "                                                                              \n",
       "                                                                              \n",
       "                                                                              \n",
       "R⋅T⎞                                                                          \n",
       "───⎟⋅a_mix(x_z)                                                            3  \n",
       "P  ⎠               - -1.0⋅a_mix(x_z)⋅b_mix(x_z)    0.0740740740740741⋅a_mix (x\n",
       "──────────────── - ───────────────────────────── + ───────────────────────────\n",
       "                                 P                                3           \n",
       "                                                                 P            \n",
       "                                                                              \n",
       "                                                                              \n",
       "                                                                              \n",
       "                                                                              \n",
       "──────────────────────────────────────────────────────────────────────────────\n",
       "______________________________ │                       ⎛                9⋅R⋅T⎞\n",
       "                               │  - -0.037037037037037⋅⎜-9⋅b_mix(x_z) - ─────⎟\n",
       "0.333333333333333⋅a_mix(x_z)   │                       ⎝                  P  ⎠\n",
       "───────────────────────────── ⋅│- ────────────────────────────────────────────\n",
       "            P                  │                             P                \n",
       "                               │                                              \n",
       "                                                                              \n",
       "                                                                              \n",
       "                                                                              \n",
       "                                                                              \n",
       "                                                                              \n",
       "                                                                              \n",
       "                                                                              \n",
       "                                                                              \n",
       "\n",
       "        ⎛                      ⎛              ________________________________\n",
       "        ⎜                      ⎜             ╱                                \n",
       "        ⎜                      ⎜            ╱  ⎛                        ⎛     \n",
       "        ⎜                      ⎜           ╱   ⎜  - -0.0185185185185185⋅⎜-9⋅b_\n",
       "        ⎜                      ⎜          ╱    ⎜                        ⎝     \n",
       "   ⎞    ⎜                      ⎜         ╱     ⎜- ────────────────────────────\n",
       "   ⎟    ⎜                      ⎜        ╱      ⎜                              \n",
       "_z)⎟    ⎜                      ⎜       ╱       ⎝                              \n",
       "───⎟⋅   ⎜0.333333333333333⋅    ⎜      ╱        ───────────────────────────────\n",
       "   ⎟    ⎜                      ⎜     ╱                                        \n",
       "   ⎠    ⎜                      ⎜    ╱                                  ⎛      \n",
       "        ⎜                      ⎜   ╱                                   ⎜      \n",
       "        ⎜                      ⎜  ╱                                    ⎜- - -0\n",
       "        ⎜                      ⎝╲╱                                     ⎝      \n",
       "     cos⎝                  acos                                               \n",
       "──────────────────────────────────────────────────────────────────────────────\n",
       "                                                                             │\n",
       "⋅a_mix(x_z)                                                            3     │\n",
       "               - -1.0⋅a_mix(x_z)⋅b_mix(x_z)    0.0740740740740741⋅a_mix (x_z)│\n",
       "──────────── - ───────────────────────────── + ──────────────────────────────│\n",
       "                             P                                3              │\n",
       "                                                             P               │\n",
       "                                                                              \n",
       "                                                                              \n",
       "                                                                              \n",
       "                                                                              \n",
       "                                                                              \n",
       "                                                                              \n",
       "                                                                              \n",
       "                                                                              \n",
       "\n",
       "______________________________________________________________________________\n",
       "                                                                              \n",
       "           9⋅R⋅T⎞                                                             \n",
       "mix(x_z) - ─────⎟⋅a_mix(x_z)                                                  \n",
       "             P  ⎠               - -0.5⋅a_mix(x_z)⋅b_mix(x_z)    0.037037037037\n",
       "───────────────────────────── - ───────────────────────────── + ──────────────\n",
       "P                                             P                               \n",
       "                                                                              \n",
       "──────────────────────────────────────────────────────────────────────────────\n",
       "                                                                     3        \n",
       "                                    2                               ⎞         \n",
       "                 ⎛              R⋅T⎞    0.333333333333333⋅a_mix(x_z)⎟         \n",
       ".111111111111111⋅⎜-b_mix(x_z) - ───⎟  + ────────────────────────────⎟         \n",
       "                 ⎝               P ⎠                 P              ⎠         \n",
       "                                                                              \n",
       "──────────────────────────────────────────────────────────────────────────────\n",
       "                                                                              \n",
       "                                                                              \n",
       "                                                                              \n",
       "                                                                              \n",
       "                                                                              \n",
       "                                                                              \n",
       "                                                                              \n",
       "                                                                              \n",
       "                                                                              \n",
       "                                                                              \n",
       "                                                                              \n",
       "                                                                              \n",
       "                                                                              \n",
       "                                                                              \n",
       "\n",
       "__________________⎞⎞                                                          \n",
       "                2 ⎟⎟                                                          \n",
       "               ⎞  ⎟⎟                                                          \n",
       "         3     ⎟  ⎟⎟                                                          \n",
       "037⋅a_mix (x_z)⎟  ⎟⎟                                                          \n",
       "───────────────⎟  ⎟⎟                                                          \n",
       " 3             ⎟  ⎟⎟     ⎛⎛                                                   \n",
       "P              ⎠  ⎟⎟     ⎜⎜                       ⎛      ⎛R⋅T⎞                \n",
       "───────────────── ⎟⎟   2⋅⎜⎜- - -0.037037037037037⋅⎜- 9⋅re⎜───⎟ - 9⋅re(b_mix(x_\n",
       "                  ⎟⎟     ⎜⎜                       ⎝      ⎝ P ⎠                \n",
       "                  ⎟⎟     ⎝⎝                                                   \n",
       "                  ⎟⎟                                                          \n",
       "                  ⎟⎟                                                          \n",
       "                  ⎠⎟                                                          \n",
       "                   ⎠                                                          \n",
       "──────────────────── + ───────────────────────────────────────────────────────\n",
       "                                                                              \n",
       "                                                                              \n",
       "                                                                              \n",
       "                                                                              \n",
       "                                                                              \n",
       "                                                                              \n",
       "                                                                              \n",
       "                                                                              \n",
       "                                                                              \n",
       "                                                                              \n",
       "                                                                              \n",
       "                                                                              \n",
       "                                                                              \n",
       "                                                                              \n",
       "\n",
       "                                                                              \n",
       "                                                                              \n",
       "                                                                              \n",
       "                                                                              \n",
       "                                                                              \n",
       "                                                                              \n",
       "                                                                              \n",
       "   ⎞   ⎛a_mix(x_z)⎞                     ⎛      ⎛R⋅T⎞                   ⎞   ⎛a_\n",
       "z))⎟⋅re⎜──────────⎟ + 0.037037037037037⋅⎜- 9⋅im⎜───⎟ - 9⋅im(b_mix(x_z))⎟⋅im⎜──\n",
       "   ⎠   ⎝    P     ⎠                     ⎝      ⎝ P ⎠                   ⎠   ⎝  \n",
       "                                                                              \n",
       "                                                                              \n",
       "                                                                              \n",
       "                                                                              \n",
       "                                                                              \n",
       "──────────────────────────────────────────────────────────────────────────────\n",
       "                                                                              \n",
       "                                                                              \n",
       "                                                                              \n",
       "                                                                              \n",
       "                                                                              \n",
       "                                                                              \n",
       "                                                                              \n",
       "                                                                              \n",
       "                                                                              \n",
       "                                                                              \n",
       "                                                                              \n",
       "                                                                              \n",
       "                                                                              \n",
       "                                                                              \n",
       "\n",
       "                                                                              \n",
       "                                                                              \n",
       "                                                                              \n",
       "                                                                              \n",
       "                                                                              \n",
       "                                                                              \n",
       "                                 ⎛     3     ⎞                                \n",
       "mix(x_z)⎞                        ⎜a_mix (x_z)⎟            ⎛a_mix(x_z)⋅b_mix(x_\n",
       "────────⎟ + 0.0740740740740741⋅re⎜───────────⎟ - - -1.0⋅re⎜───────────────────\n",
       "  P     ⎠                        ⎜      3    ⎟            ⎝          P        \n",
       "                                 ⎝     P     ⎠                                \n",
       "                                                                              \n",
       "                                                                              \n",
       "                                                                              \n",
       "                                                                              \n",
       "──────────────────────────────────────────────────────────────────────────────\n",
       "                                                                              \n",
       "                                                                              \n",
       "                                                                              \n",
       "                                                                              \n",
       "                                                                              \n",
       "                                                                              \n",
       "                                                                              \n",
       "                                                                              \n",
       "                                                                              \n",
       "                                                                              \n",
       "                                                                              \n",
       "                                                                              \n",
       "                                                                              \n",
       "                                                                              \n",
       "\n",
       "                                                                              \n",
       "                                                                              \n",
       "                                                                              \n",
       "                                                                              \n",
       "                                                                              \n",
       "                                                                              \n",
       "   ⎞ ⎛                                                                        \n",
       "z)⎞⎟ ⎜                       ⎛      ⎛R⋅T⎞                   ⎞  ∂  ⎛  ⎛a_mix(x_\n",
       "──⎟⎟⋅⎜- - -0.037037037037037⋅⎜- 9⋅re⎜───⎟ - 9⋅re(b_mix(x_z))⎟⋅────⎜re⎜────────\n",
       "  ⎠⎟ ⎜                       ⎝      ⎝ P ⎠                   ⎠ ∂x_z⎝  ⎝    P   \n",
       "   ⎠ ⎝                                                                        \n",
       "                                                                              \n",
       "                                                                              \n",
       "                                                                              \n",
       "                                                                              \n",
       "──────────────────────────────────────────────────────────────────────────────\n",
       "                                                                              \n",
       "                                                                              \n",
       "                                                                              \n",
       "                                                                              \n",
       "                                                                              \n",
       "                                                                              \n",
       "                                                                              \n",
       "                                                                              \n",
       "                                                                              \n",
       "                                                                              \n",
       "                                                                              \n",
       "                                                                              \n",
       "                                                                              \n",
       "                                                                              \n",
       "\n",
       "                                                                              \n",
       "                                                                              \n",
       "                                                                              \n",
       "                                                                              \n",
       "                                                                              \n",
       "                                                                              \n",
       "                                                                              \n",
       "z)⎞⎞                     ⎛      ⎛R⋅T⎞                   ⎞  ∂  ⎛  ⎛a_mix(x_z)⎞⎞\n",
       "──⎟⎟ + 0.037037037037037⋅⎜- 9⋅im⎜───⎟ - 9⋅im(b_mix(x_z))⎟⋅────⎜im⎜──────────⎟⎟\n",
       "  ⎠⎠                     ⎝      ⎝ P ⎠                   ⎠ ∂x_z⎝  ⎝    P     ⎠⎠\n",
       "                                                                              \n",
       "                                                                              \n",
       "                                                                              \n",
       "                                                                              \n",
       "                                                                              \n",
       "──────────────────────────────────────────────────────────────────────────────\n",
       "                                                                              \n",
       "                                                                              \n",
       "                                                                              \n",
       "                                                                              \n",
       "                                                                              \n",
       "                                                                              \n",
       "                                                                              \n",
       "                                                                              \n",
       "                                                                              \n",
       "                                                                              \n",
       "                                                                              \n",
       "                                                                              \n",
       "                                                                              \n",
       "                                                                              \n",
       "\n",
       "                                                                              \n",
       "                                                                              \n",
       "                                                                              \n",
       "                                                                              \n",
       "                                                                              \n",
       "                                                                              \n",
       "                                                                              \n",
       "                       ⎛a_mix(x_z)⎞  d                                        \n",
       " + 0.333333333333333⋅re⎜──────────⎟⋅────(re(b_mix(x_z))) - - -0.33333333333333\n",
       "                       ⎝    P     ⎠ dx_z                                      \n",
       "                                                                              \n",
       "                                                                              \n",
       "                                                                              \n",
       "                                                                              \n",
       "                                                                              \n",
       "──────────────────────────────────────────────────────────────────────────────\n",
       "                                                                              \n",
       "                                                                              \n",
       "                                                                              \n",
       "                                                                              \n",
       "                                                                              \n",
       "                                                                              \n",
       "                                                                              \n",
       "                                                                              \n",
       "                                                                              \n",
       "                                                                              \n",
       "                                                                              \n",
       "                                                                              \n",
       "                                                                              \n",
       "                                                                              \n",
       "\n",
       "                                                                              \n",
       "                                                                              \n",
       "                                                                              \n",
       "                                                                              \n",
       "                                                                              \n",
       "                                                                              \n",
       "                                                               ⎛  ⎛     3     \n",
       "    ⎛a_mix(x_z)⎞  d                                         ∂  ⎜  ⎜a_mix (x_z)\n",
       "3⋅im⎜──────────⎟⋅────(im(b_mix(x_z))) + 0.0740740740740741⋅────⎜re⎜───────────\n",
       "    ⎝    P     ⎠ dx_z                                      ∂x_z⎜  ⎜      3    \n",
       "                                                               ⎝  ⎝     P     \n",
       "                                                                              \n",
       "                                                                              \n",
       "                                                                              \n",
       "                                                                              \n",
       "──────────────────────────────────────────────────────────────────────────────\n",
       "                                                                              \n",
       "                                                                              \n",
       "                                                                              \n",
       "                                                                              \n",
       "                                                                              \n",
       "                                                                              \n",
       "                                                                              \n",
       "                                                                              \n",
       "                                                                              \n",
       "                                                                              \n",
       "                                                                              \n",
       "                                                                              \n",
       "                                                                              \n",
       "                                                                              \n",
       "\n",
       "                                                                              \n",
       "                                                                              \n",
       "                                                                              \n",
       "                                                                              \n",
       "                                                                              \n",
       "                                                                              \n",
       "⎞⎞                                         ⎞   ⎛                              \n",
       "⎟⎟           ∂  ⎛  ⎛a_mix(x_z)⋅b_mix(x_z)⎞⎞⎟   ⎜                       ⎛      \n",
       "⎟⎟ - - -1.0⋅────⎜re⎜─────────────────────⎟⎟⎟ + ⎜- - -0.037037037037037⋅⎜- 9⋅re\n",
       "⎟⎟          ∂x_z⎝  ⎝          P          ⎠⎠⎟   ⎜                       ⎝      \n",
       "⎠⎠                                         ⎠   ⎝                              \n",
       "                                                                              \n",
       "                                                                              \n",
       "                                                                              \n",
       "                                                                              \n",
       "──────────────────────────────────────────────────────────────────────────────\n",
       "                                                                              \n",
       "                                                                              \n",
       "                                                                              \n",
       "                                                                              \n",
       "                                                                              \n",
       "                                                                              \n",
       "                                                                              \n",
       "                                                                              \n",
       "                                                                              \n",
       "                                                                              \n",
       "                                                                              \n",
       "                                                                              \n",
       "                                                                              \n",
       "                                                                              \n",
       "\n",
       "                                                                              \n",
       "                                                                              \n",
       "                                                                              \n",
       "                                                                              \n",
       "                                                                              \n",
       "                                                                              \n",
       "                                                                              \n",
       "⎛R⋅T⎞                   ⎞   ⎛a_mix(x_z)⎞                        ⎛      ⎛R⋅T⎞  \n",
       "⎜───⎟ - 9⋅re(b_mix(x_z))⎟⋅im⎜──────────⎟ - - -0.037037037037037⋅⎜- 9⋅im⎜───⎟ -\n",
       "⎝ P ⎠                   ⎠   ⎝    P     ⎠                        ⎝      ⎝ P ⎠  \n",
       "                                                                              \n",
       "                                                                              \n",
       "                                                                              \n",
       "                                                                              \n",
       "                                                                              \n",
       "──────────────────────────────────────────────────────────────────────────────\n",
       "                                                                              \n",
       "                                                                              \n",
       "                                                                              \n",
       "                                                                              \n",
       "                                                                              \n",
       "                                                                              \n",
       "                                                                              \n",
       "                                                                              \n",
       "                                                                              \n",
       "                                                                              \n",
       "                                                                              \n",
       "                                                                              \n",
       "                                                                              \n",
       "                                                                              \n",
       "\n",
       "                                                                              \n",
       "                                                                              \n",
       "                                                                              \n",
       "                                                                              \n",
       "                                                                              \n",
       "                                                                              \n",
       "                                                         ⎛     3     ⎞        \n",
       "                 ⎞   ⎛a_mix(x_z)⎞                        ⎜a_mix (x_z)⎟        \n",
       " 9⋅im(b_mix(x_z))⎟⋅re⎜──────────⎟ + 0.0740740740740741⋅im⎜───────────⎟ - - -1.\n",
       "                 ⎠   ⎝    P     ⎠                        ⎜      3    ⎟        \n",
       "                                                         ⎝     P     ⎠        \n",
       "                                                                              \n",
       "                                                                              \n",
       "                                                                              \n",
       "                                                                              \n",
       "──────────────────────────────────────────────────────────────────────────────\n",
       "                                                                              \n",
       "                 │                       ⎛                9⋅R⋅T⎞              \n",
       "                 │  - -0.037037037037037⋅⎜-9⋅b_mix(x_z) - ─────⎟⋅a_mix(x_z)   \n",
       "                 │                       ⎝                  P  ⎠              \n",
       "                 │- ──────────────────────────────────────────────────────── -\n",
       "                 │                             P                              \n",
       "                 │                                                            \n",
       "                                                                              \n",
       "                                                                              \n",
       "                                                                              \n",
       "                                                                              \n",
       "                                                                              \n",
       "                                                                              \n",
       "                                                                              \n",
       "\n",
       "                                                                              \n",
       "                                                                              \n",
       "                                                                              \n",
       "                                                                              \n",
       "                                                                              \n",
       "                                                                              \n",
       "                           ⎞ ⎛                                                \n",
       "    ⎛a_mix(x_z)⋅b_mix(x_z)⎞⎟ ⎜                       ⎛      ⎛R⋅T⎞             \n",
       "0⋅im⎜─────────────────────⎟⎟⋅⎜- - -0.037037037037037⋅⎜- 9⋅re⎜───⎟ - 9⋅re(b_mix\n",
       "    ⎝          P          ⎠⎟ ⎜                       ⎝      ⎝ P ⎠             \n",
       "                           ⎠ ⎝                                                \n",
       "                                                                              \n",
       "                                                                              \n",
       "                                                                              \n",
       "                                                                              \n",
       "──────────────────────────────────────────────────────────────────────────────\n",
       "                                                                3             \n",
       "                                                               │              \n",
       "                                                         3     │              \n",
       " - -1.0⋅a_mix(x_z)⋅b_mix(x_z)    0.0740740740740741⋅a_mix (x_z)│              \n",
       " ───────────────────────────── + ──────────────────────────────│              \n",
       "               P                                3              │              \n",
       "                                               P               │              \n",
       "                                                                              \n",
       "                                                                              \n",
       "                                                                              \n",
       "                                                                              \n",
       "                                                                              \n",
       "                                                                              \n",
       "                                                                              \n",
       "\n",
       "                                                                              \n",
       "                                                                              \n",
       "                                                                              \n",
       "                                                                              \n",
       "                                                                              \n",
       "                                                                              \n",
       "                                                                              \n",
       "      ⎞  ∂  ⎛  ⎛a_mix(x_z)⎞⎞                        ⎛      ⎛R⋅T⎞              \n",
       "(x_z))⎟⋅────⎜im⎜──────────⎟⎟ - - -0.037037037037037⋅⎜- 9⋅im⎜───⎟ - 9⋅im(b_mix(\n",
       "      ⎠ ∂x_z⎝  ⎝    P     ⎠⎠                        ⎝      ⎝ P ⎠              \n",
       "                                                                              \n",
       "                                                                              \n",
       "                                                                              \n",
       "                                                                              \n",
       "                                                                              \n",
       "──────────────────────────────────────────────────────────────────────────────\n",
       "                                                                              \n",
       "                                                                              \n",
       "                                                                              \n",
       "                                                                              \n",
       "                                                                              \n",
       "                                                                              \n",
       "                                                                              \n",
       "                                                                              \n",
       "                                                                              \n",
       "                                                                              \n",
       "                                                                              \n",
       "                                                                              \n",
       "                                                                              \n",
       "                                                                              \n",
       "\n",
       "                                                                              \n",
       "                                                                              \n",
       "                                                                              \n",
       "                                                                              \n",
       "                                                                              \n",
       "                                                                              \n",
       "                                                                              \n",
       "     ⎞  ∂  ⎛  ⎛a_mix(x_z)⎞⎞                       ⎛a_mix(x_z)⎞  d             \n",
       "x_z))⎟⋅────⎜re⎜──────────⎟⎟ + 0.333333333333333⋅re⎜──────────⎟⋅────(im(b_mix(x\n",
       "     ⎠ ∂x_z⎝  ⎝    P     ⎠⎠                       ⎝    P     ⎠ dx_z           \n",
       "                                                                              \n",
       "                                                                              \n",
       "                                                                              \n",
       "                                                                              \n",
       "                                                                              \n",
       "──────────────────────────────────────────────────────────────────────────────\n",
       "                                                                              \n",
       "                                                                              \n",
       "                                                                              \n",
       "                                                                              \n",
       "                                                                              \n",
       "                                                                              \n",
       "                                                                              \n",
       "                                                                              \n",
       "                                                                              \n",
       "                                                                              \n",
       "                                                                              \n",
       "                                                                              \n",
       "                                                                              \n",
       "                                                                              \n",
       "\n",
       "                                                                              \n",
       "                                                                              \n",
       "                                                                              \n",
       "                                                                              \n",
       "                                                                              \n",
       "                                                                              \n",
       "                                                                              \n",
       "                            ⎛a_mix(x_z)⎞  d                                   \n",
       "_z))) + 0.333333333333333⋅im⎜──────────⎟⋅────(re(b_mix(x_z))) + 0.074074074074\n",
       "                            ⎝    P     ⎠ dx_z                                 \n",
       "                                                                              \n",
       "                                                                              \n",
       "                                                                              \n",
       "                                                                              \n",
       "                                                                              \n",
       "──────────────────────────────────────────────────────────────────────────────\n",
       "                                                                              \n",
       "                                                                              \n",
       "                                                                              \n",
       "                                                                              \n",
       "                                                                              \n",
       "                                                                              \n",
       "                                                                              \n",
       "                                                                              \n",
       "                                                                              \n",
       "                                                                              \n",
       "                                                                              \n",
       "                                                                              \n",
       "                                                                              \n",
       "                                                                              \n",
       "\n",
       "                                                                              \n",
       "                                                                              \n",
       "                                                                              \n",
       "                                                                              \n",
       "                                                                              \n",
       "                                                                           ___\n",
       "         ⎛  ⎛     3     ⎞⎞                                         ⎞⎞     ╱   \n",
       "      ∂  ⎜  ⎜a_mix (x_z)⎟⎟           ∂  ⎛  ⎛a_mix(x_z)⋅b_mix(x_z)⎞⎞⎟⎟    ╱    \n",
       "0741⋅────⎜im⎜───────────⎟⎟ - - -1.0⋅────⎜im⎜─────────────────────⎟⎟⎟⎟⋅  ╱   0.\n",
       "     ∂x_z⎜  ⎜      3    ⎟⎟          ∂x_z⎝  ⎝          P          ⎠⎠⎟⎟ ╲╱      \n",
       "         ⎝  ⎝     P     ⎠⎠                                         ⎠⎠         \n",
       "                                                                              \n",
       "                                                                              \n",
       "                                                                              \n",
       "                                                                              \n",
       "──────────────────────────────────────────────────────────────────────────────\n",
       "                                                                              \n",
       "                                                                              \n",
       "                                                                              \n",
       "                                                                              \n",
       "                                                                              \n",
       "                                                                              \n",
       "                                                                              \n",
       "                                                                              \n",
       "                                                                              \n",
       "                                                                              \n",
       "                                                                              \n",
       "                                                                              \n",
       "                                                                              \n",
       "                                                                              \n",
       "\n",
       "                                                                              \n",
       "                                                                              \n",
       "                                                                              \n",
       "                                                                              \n",
       "                                                                              \n",
       "________________________________________________________________________ ⎛    \n",
       "                                   2                                     ⎜  - \n",
       "                ⎛              R⋅T⎞    - -0.333333333333333⋅a_mix(x_z)   ⎜    \n",
       "111111111111111⋅⎜-b_mix(x_z) - ───⎟  - ──────────────────────────────── ⋅⎜- ──\n",
       "                ⎝               P ⎠                   P                  ⎜    \n",
       "                                                                         ⎝    \n",
       "                                                                              \n",
       "                                                                              \n",
       "                                                                              \n",
       "                                                                              \n",
       "──────────────────────────────────────────────────────────────────────────────\n",
       "                                                                              \n",
       "                                                                              \n",
       "                                                                              \n",
       "                                                                              \n",
       "                                                                              \n",
       "                                                                              \n",
       "                                                                              \n",
       "                                                                              \n",
       "                                                                              \n",
       "                                                                              \n",
       "                                                                              \n",
       "                                                                              \n",
       "                                                                              \n",
       "                                                                              \n",
       "\n",
       "                                                                              \n",
       "                                                                              \n",
       "                                                                              \n",
       "                                                                              \n",
       "                                                                              \n",
       "                   ⎛                9⋅R⋅T⎞                                    \n",
       "-0.037037037037037⋅⎜-9⋅b_mix(x_z) - ─────⎟⋅a_mix(x_z)                         \n",
       "                   ⎝                  P  ⎠               - -1.0⋅a_mix(x_z)⋅b_m\n",
       "────────────────────────────────────────────────────── - ─────────────────────\n",
       "                         P                                             P      \n",
       "                                                                              \n",
       "                                                                              \n",
       "                                                                              \n",
       "                                                                              \n",
       "                                                                              \n",
       "──────────────────────────────────────────────────────────────────────────────\n",
       "                                                                              \n",
       "                                                                              \n",
       "                                                                              \n",
       "                                                                              \n",
       "                                                                              \n",
       "                                                                              \n",
       "                                                                              \n",
       "                                                                              \n",
       "                                                                              \n",
       "                                                                              \n",
       "                                                                              \n",
       "                                                                              \n",
       "                                                                              \n",
       "                                                                              \n",
       "\n",
       "                                              ⎛                      ⎛        \n",
       "                                              ⎜                      ⎜        \n",
       "                                              ⎜                      ⎜        \n",
       "                                              ⎜                      ⎜        \n",
       "                                              ⎜                      ⎜        \n",
       "                                         ⎞    ⎜                      ⎜        \n",
       "                                   3     ⎟    ⎜                      ⎜        \n",
       "ix(x_z)    0.0740740740740741⋅a_mix (x_z)⎟    ⎜                      ⎜       ╱\n",
       "──────── + ──────────────────────────────⎟⋅   ⎜0.333333333333333⋅    ⎜      ╱ \n",
       "                          3              ⎟    ⎜                      ⎜     ╱  \n",
       "                         P               ⎠    ⎜                      ⎜    ╱   \n",
       "                                              ⎜                      ⎜   ╱    \n",
       "                                              ⎜                      ⎜  ╱     \n",
       "                                              ⎜                      ⎝╲╱      \n",
       "                                           cos⎝                  acos         \n",
       "──────────────────────────────────────────────────────────────────────────────\n",
       "                                                                              \n",
       "                                                                              \n",
       "                                                                              \n",
       "                                                                              \n",
       "                                                                              \n",
       "                                                                              \n",
       "                                                                              \n",
       "                                                                              \n",
       "                                                                              \n",
       "                                                                              \n",
       "                                                                              \n",
       "                                                                              \n",
       "                                                                              \n",
       "                                                                              \n",
       "\n",
       "      ________________________________________________________________________\n",
       "     ╱                                                                        \n",
       "    ╱  ⎛                        ⎛                9⋅R⋅T⎞                       \n",
       "   ╱   ⎜  - -0.0185185185185185⋅⎜-9⋅b_mix(x_z) - ─────⎟⋅a_mix(x_z)            \n",
       "  ╱    ⎜                        ⎝                  P  ⎠               - -0.5⋅a\n",
       " ╱     ⎜- ───────────────────────────────────────────────────────── - ────────\n",
       "╱      ⎜                              P                                       \n",
       "       ⎝                                                                      \n",
       "       ───────────────────────────────────────────────────────────────────────\n",
       "                                                                              \n",
       "                               ⎛                                          2   \n",
       "                               ⎜                       ⎛              R⋅T⎞    \n",
       "                               ⎜- - -0.111111111111111⋅⎜-b_mix(x_z) - ───⎟  + \n",
       "                               ⎝                       ⎝               P ⎠    \n",
       "                                                                              \n",
       "──────────────────────────────────────────────────────────────────────────────\n",
       "                                                                              \n",
       "                                                                              \n",
       "                                                                              \n",
       "                                                                              \n",
       "                                                                              \n",
       "                                                                              \n",
       "                                                                              \n",
       "                                                                              \n",
       "                                                                              \n",
       "                                                                              \n",
       "                                                                              \n",
       "                                                                              \n",
       "                                                                              \n",
       "                                                                              \n",
       "\n",
       "________________________________________________________⎞⎞                    \n",
       "                                                      2 ⎟⎟                    \n",
       "                                                     ⎞  ⎟⎟                    \n",
       "                                               3     ⎟  ⎟⎟                    \n",
       "_mix(x_z)⋅b_mix(x_z)    0.037037037037037⋅a_mix (x_z)⎟  ⎟⎟                    \n",
       "───────────────────── + ─────────────────────────────⎟  ⎟⎟          __________\n",
       "      P                                3             ⎟  ⎟⎟         ╱          \n",
       "                                      P              ⎠  ⎟⎟        ╱           \n",
       "─────────────────────────────────────────────────────── ⎟⎟   2⋅  ╱   0.1111111\n",
       "                             3                          ⎟⎟     ╲╱             \n",
       "                            ⎞                           ⎟⎟                    \n",
       "0.333333333333333⋅a_mix(x_z)⎟                           ⎟⎟                    \n",
       "────────────────────────────⎟                           ⎟⎟                    \n",
       "             P              ⎠                           ⎠⎟                    \n",
       "                                                         ⎠                    \n",
       "────────────────────────────────────────────────────────── - ─────────────────\n",
       "                                                                              \n",
       "                                                                              \n",
       "                                                                              \n",
       "                                                                              \n",
       "                                                                              \n",
       "                                                                              \n",
       "                                                                              \n",
       "                                                                              \n",
       "                                                                              \n",
       "                                                                              \n",
       "                                                                              \n",
       "                                                                              \n",
       "                                                                              \n",
       "                                                                              \n",
       "\n",
       "                                                                              \n",
       "                                                                              \n",
       "                                                                              \n",
       "                                                                              \n",
       "                                                                              \n",
       "_________________________________________________________________ ⎛           \n",
       "                            2                                     ⎜  - -0.0370\n",
       "         ⎛              R⋅T⎞    - -0.333333333333333⋅a_mix(x_z)   ⎜           \n",
       "11111111⋅⎜-b_mix(x_z) - ───⎟  - ──────────────────────────────── ⋅⎜- ─────────\n",
       "         ⎝               P ⎠                   P                  ⎜           \n",
       "                                                                  ⎝           \n",
       "                                                                              \n",
       "                                                                              \n",
       "                                                                              \n",
       "                                                                              \n",
       "──────────────────────────────────────────────────────────────────────────────\n",
       "                                                                              \n",
       "                                                                              \n",
       "                                                                              \n",
       "                                                                              \n",
       "                                                                              \n",
       "                                                                              \n",
       "                                                                              \n",
       "                                                                              \n",
       "                                                                              \n",
       "                                                                              \n",
       "                                                                              \n",
       "                                                                              \n",
       "                                                                              \n",
       "                                                                              \n",
       "\n",
       "                                                                              \n",
       "                                                                              \n",
       "                                                                              \n",
       "                                                                              \n",
       "                                                                              \n",
       "            ⎛                9⋅R⋅T⎞  d                                        \n",
       "37037037037⋅⎜-9⋅b_mix(x_z) - ─────⎟⋅────(a_mix(x_z))    - -0.666666666666667⋅a\n",
       "            ⎝                  P  ⎠ dx_z                                      \n",
       "───────────────────────────────────────────────────── - ──────────────────────\n",
       "                     P                                                        \n",
       "                                                                              \n",
       "                                                                              \n",
       "                                                                              \n",
       "                                                                              \n",
       "                                                                              \n",
       "──────────────────────────────────────────────────────────────────────────────\n",
       "                                                                        │     \n",
       "                                                                        │  - -\n",
       "                                                                        │     \n",
       "                                                                        │- ───\n",
       "                                                                        │     \n",
       "                                                                        │     \n",
       "                                                                              \n",
       "                                                                              \n",
       "                                                                              \n",
       "                                                                              \n",
       "                                                                              \n",
       "                                                                              \n",
       "                                                                              \n",
       "                                                                              \n",
       "\n",
       "                                                                              \n",
       "                                                                              \n",
       "                                                                              \n",
       "                                                                              \n",
       "                                                                              \n",
       "           d                                     d                            \n",
       "_mix(x_z)⋅────(b_mix(x_z))    - -1.0⋅b_mix(x_z)⋅────(a_mix(x_z))    0.22222222\n",
       "          dx_z                                  dx_z                          \n",
       "─────────────────────────── - ─────────────────────────────────── + ──────────\n",
       "  P                                            P                              \n",
       "                                                                              \n",
       "                                                                              \n",
       "                                                                              \n",
       "                                                                              \n",
       "                                                                              \n",
       "──────────────────────────────────────────────────────────────────────────────\n",
       "                  ⎛                9⋅R⋅T⎞                                     \n",
       "0.037037037037037⋅⎜-9⋅b_mix(x_z) - ─────⎟⋅a_mix(x_z)                          \n",
       "                  ⎝                  P  ⎠               - -1.0⋅a_mix(x_z)⋅b_mi\n",
       "───────────────────────────────────────────────────── - ──────────────────────\n",
       "                        P                                             P       \n",
       "                                                                              \n",
       "                                                                              \n",
       "                                                                              \n",
       "                                                                              \n",
       "                                                                              \n",
       "                                                                              \n",
       "                                                                              \n",
       "                                                                              \n",
       "                                                                              \n",
       "\n",
       "                                         ⎛                      ⎛             \n",
       "                                         ⎜                      ⎜             \n",
       "                                         ⎜                      ⎜            ╱\n",
       "                                         ⎜                      ⎜           ╱ \n",
       "                                         ⎜                      ⎜          ╱  \n",
       "             2       d              ⎞    ⎜                      ⎜         ╱   \n",
       "2222222⋅a_mix (x_z)⋅────(a_mix(x_z))⎟    ⎜                      ⎜        ╱    \n",
       "                    dx_z            ⎟    ⎜                      ⎜       ╱     \n",
       "────────────────────────────────────⎟⋅   ⎜0.333333333333333⋅    ⎜      ╱      \n",
       "             3                      ⎟    ⎜                      ⎜     ╱       \n",
       "            P                       ⎠    ⎜                      ⎜    ╱        \n",
       "                                         ⎜                      ⎜   ╱         \n",
       "                                         ⎜                      ⎜  ╱          \n",
       "                                         ⎜                      ⎝╲╱           \n",
       "                                      cos⎝                  acos              \n",
       "──────────────────────────────────────────────────────────────────────────────\n",
       "                                        │                                     \n",
       "                                  3     │                                     \n",
       "x(x_z)    0.0740740740740741⋅a_mix (x_z)│                                     \n",
       "─────── + ──────────────────────────────│                                     \n",
       "                         3              │                                     \n",
       "                        P               │                                     \n",
       "                                                                              \n",
       "                                                                              \n",
       "                                                                              \n",
       "                                                                              \n",
       "                                                                              \n",
       "                                                                              \n",
       "                                                                              \n",
       "                                                                              \n",
       "\n",
       " _____________________________________________________________________________\n",
       "╱                                                                             \n",
       "  ⎛                        ⎛                9⋅R⋅T⎞                            \n",
       "  ⎜  - -0.0185185185185185⋅⎜-9⋅b_mix(x_z) - ─────⎟⋅a_mix(x_z)                 \n",
       "  ⎜                        ⎝                  P  ⎠               - -0.5⋅a_mix(\n",
       "  ⎜- ───────────────────────────────────────────────────────── - ─────────────\n",
       "  ⎜                              P                                            \n",
       "  ⎝                                                                           \n",
       "  ────────────────────────────────────────────────────────────────────────────\n",
       "                                                                              \n",
       "                          ⎛                                          2        \n",
       "                          ⎜                       ⎛              R⋅T⎞    0.333\n",
       "                          ⎜- - -0.111111111111111⋅⎜-b_mix(x_z) - ───⎟  + ─────\n",
       "                          ⎝                       ⎝               P ⎠         \n",
       "                                                                              \n",
       "──────────────────────────────────────────────────────────────────────────────\n",
       "                                                                              \n",
       "                                                                              \n",
       "                                                                              \n",
       "                                                                              \n",
       "                                                                              \n",
       "                                                                              \n",
       "                                                                              \n",
       "                                                                              \n",
       "                                                                              \n",
       "                                                                              \n",
       "                                                                              \n",
       "                                                                              \n",
       "                                                                              \n",
       "                                                                              \n",
       "\n",
       "___________________________________________________⎞⎞                         \n",
       "                                                 2 ⎟⎟                         \n",
       "                                                ⎞  ⎟⎟                         \n",
       "                                          3     ⎟  ⎟⎟                         \n",
       "x_z)⋅b_mix(x_z)    0.037037037037037⋅a_mix (x_z)⎟  ⎟⎟                         \n",
       "──────────────── + ─────────────────────────────⎟  ⎟⎟                         \n",
       " P                                3             ⎟  ⎟⎟                         \n",
       "                                 P              ⎠  ⎟⎟                         \n",
       "────────────────────────────────────────────────── ⎟⎟                         \n",
       "                        3                          ⎟⎟                         \n",
       "                       ⎞                           ⎟⎟                         \n",
       "333333333333⋅a_mix(x_z)⎟                           ⎟⎟                         \n",
       "───────────────────────⎟                           ⎟⎟                         \n",
       "        P              ⎠                           ⎠⎟                         \n",
       "                                                    ⎠                      d  \n",
       "───────────────────────────────────────────────────── + 0.333333333333333⋅────\n",
       "                                                                          dx_z\n",
       "                                                                              \n",
       "                                                                              \n",
       "                                                                              \n",
       "                                                                              \n",
       "                                                                              \n",
       "                                                                              \n",
       "                                                                              \n",
       "                                                                              \n",
       "                                                                              \n",
       "                                                                              \n",
       "                                                                              \n",
       "                                                                              \n",
       "                                                                              \n",
       "\n",
       "            \n",
       "            \n",
       "            \n",
       "            \n",
       "            \n",
       "            \n",
       "            \n",
       "            \n",
       "            \n",
       "            \n",
       "            \n",
       "            \n",
       "            \n",
       "            \n",
       "            \n",
       "(b_mix(x_z))\n",
       "            \n",
       "            \n",
       "            \n",
       "            \n",
       "            \n",
       "            \n",
       "            \n",
       "            \n",
       "            \n",
       "            \n",
       "            \n",
       "            \n",
       "            \n",
       "            "
      ]
     },
     "metadata": {},
     "output_type": "display_data"
    }
   ],
   "source": [
    "diff(f_1, x_z)"
   ]
  },
  {
   "cell_type": "markdown",
   "metadata": {},
   "source": [
    "## Functional approach"
   ]
  },
  {
   "cell_type": "markdown",
   "metadata": {},
   "source": [
    "######  # TO DO Group these functions into simpler expressions for final implementation"
   ]
  },
  {
   "cell_type": "code",
   "execution_count": 71,
   "metadata": {
    "collapsed": true
   },
   "outputs": [],
   "source": [
    "w, q, q_s, phi, C_1, C_2, C_3 = symbols('w, q, q_s, phi, C_1, C_2, C_3', cls=Function)"
   ]
  },
  {
   "cell_type": "markdown",
   "metadata": {},
   "source": [
    "### $f_1$"
   ]
  },
  {
   "cell_type": "code",
   "execution_count": 88,
   "metadata": {},
   "outputs": [
    {
     "data": {
      "image/png": "[encoded data removed]",
      "text/plain": [
       "      ___   _________             ⎛φ(x_z)⎞          \n",
       "  2⋅╲╱ 3 ⋅╲╱ -w(x_z) ⋅q_s(x_z)⋅cos⎜──────⎟          \n",
       "                                  ⎝  3   ⎠   C₁(x_z)\n",
       "- ──────────────────────────────────────── - ───────\n",
       "                     3                          3   "
      ]
     },
     "metadata": {},
     "output_type": "display_data"
    }
   ],
   "source": [
    "f_1 = - Rational(2) * q_s(x_z) * sqrt(- w(x_z) / Rational(3.0)) * cos(phi(x_z)/Rational(3.0)) - C_1(x_z)/Rational(3.0)\n",
    "f_1"
   ]
  },
  {
   "cell_type": "markdown",
   "metadata": {},
   "source": [
    "### $\\frac{d}{dx_z} \\left(  f_1\\right)$"
   ]
  },
  {
   "cell_type": "code",
   "execution_count": 89,
   "metadata": {},
   "outputs": [
    {
     "data": {
      "image/png": "[encoded data removed]",
      "text/plain": [
       "    ___   _________             ⎛φ(x_z)⎞  d               ___   _________     \n",
       "2⋅╲╱ 3 ⋅╲╱ -w(x_z) ⋅q_s(x_z)⋅sin⎜──────⎟⋅────(φ(x_z))   ╲╱ 3 ⋅╲╱ -w(x_z) ⋅q_s(\n",
       "                                ⎝  3   ⎠ dx_z                                 \n",
       "───────────────────────────────────────────────────── - ──────────────────────\n",
       "                          9                                                   \n",
       "\n",
       "        ⎛φ(x_z)⎞  d                 ___   _________    ⎛φ(x_z)⎞  d            \n",
       "x_z)⋅cos⎜──────⎟⋅────(w(x_z))   2⋅╲╱ 3 ⋅╲╱ -w(x_z) ⋅cos⎜──────⎟⋅────(q_s(x_z))\n",
       "        ⎝  3   ⎠ dx_z                                  ⎝  3   ⎠ dx_z          \n",
       "───────────────────────────── - ──────────────────────────────────────────────\n",
       "3⋅w(x_z)                                              3                       \n",
       "\n",
       "    d           \n",
       "   ────(C₁(x_z))\n",
       "   dx_z         \n",
       " - ─────────────\n",
       "         3      "
      ]
     },
     "metadata": {},
     "output_type": "display_data"
    }
   ],
   "source": [
    "diff(f_1, x_z)"
   ]
  },
  {
   "cell_type": "markdown",
   "metadata": {},
   "source": [
    "### $\\frac{d^2}{dx_z^2} \\left(  f_1\\right)$"
   ]
  },
  {
   "cell_type": "code",
   "execution_count": 90,
   "metadata": {},
   "outputs": [
    {
     "data": {
      "image/png": "[encoded data removed]",
      "text/plain": [
       "                                                                              \n",
       "                                                                              \n",
       "                                                                              \n",
       "                                             2                                \n",
       "     ___   _________             ⎛φ(x_z)⎞   d                 ___   _________ \n",
       "12⋅╲╱ 3 ⋅╲╱ -w(x_z) ⋅q_s(x_z)⋅sin⎜──────⎟⋅─────(φ(x_z)) + 4⋅╲╱ 3 ⋅╲╱ -w(x_z) ⋅\n",
       "                                 ⎝  3   ⎠     2                               \n",
       "                                          dx_z                                \n",
       "──────────────────────────────────────────────────────────────────────────────\n",
       "                                                                              \n",
       "\n",
       "                                                                              \n",
       "                                                                              \n",
       "                                            ___   _________             ⎛φ(x_z\n",
       "                                   2   12⋅╲╱ 3 ⋅╲╱ -w(x_z) ⋅q_s(x_z)⋅sin⎜─────\n",
       "            ⎛φ(x_z)⎞ ⎛ d          ⎞                                     ⎝  3  \n",
       "q_s(x_z)⋅cos⎜──────⎟⋅⎜────(φ(x_z))⎟  + ───────────────────────────────────────\n",
       "            ⎝  3   ⎠ ⎝dx_z        ⎠                                   w(x_z)  \n",
       "                                                                              \n",
       "──────────────────────────────────────────────────────────────────────────────\n",
       "                                                                              \n",
       "\n",
       "                                                                            2 \n",
       "                                    ___   _________             ⎛φ(x_z)⎞   d  \n",
       ")⎞  d            d             18⋅╲╱ 3 ⋅╲╱ -w(x_z) ⋅q_s(x_z)⋅cos⎜──────⎟⋅─────\n",
       "─⎟⋅────(φ(x_z))⋅────(w(x_z))                                    ⎝  3   ⎠     2\n",
       " ⎠ dx_z         dx_z                                                     dx_z \n",
       "──────────────────────────── - ───────────────────────────────────────────────\n",
       "                                                        w(x_z)                \n",
       "                                                                              \n",
       "──────────────────────────────────────────────────────────────────────────────\n",
       "                                                                              \n",
       "\n",
       "                                                                              \n",
       "                                                                  2           \n",
       "(w(x_z))       ___   _________             ⎛φ(x_z)⎞ ⎛ d          ⎞            \n",
       "           9⋅╲╱ 3 ⋅╲╱ -w(x_z) ⋅q_s(x_z)⋅cos⎜──────⎟⋅⎜────(w(x_z))⎟            \n",
       "                                           ⎝  3   ⎠ ⎝dx_z        ⎠         ___\n",
       "──────── + ──────────────────────────────────────────────────────── + 24⋅╲╱ 3 \n",
       "                                    2                                         \n",
       "                                   w (x_z)                                    \n",
       "──────────────────────────────────────────────────────────────────────────────\n",
       "              54                                                              \n",
       "\n",
       "                                                                              \n",
       "                                                                              \n",
       "                                                                              \n",
       "                                                                              \n",
       "   _________    ⎛φ(x_z)⎞  d            d                    ___   _________   \n",
       "⋅╲╱ -w(x_z) ⋅sin⎜──────⎟⋅────(φ(x_z))⋅────(q_s(x_z)) - 36⋅╲╱ 3 ⋅╲╱ -w(x_z) ⋅co\n",
       "                ⎝  3   ⎠ dx_z         dx_z                                    \n",
       "                                                                              \n",
       "──────────────────────────────────────────────────────────────────────────────\n",
       "                                                                              \n",
       "\n",
       "                                                                              \n",
       "                                                                              \n",
       "                                 ___   _________    ⎛φ(x_z)⎞  d              d\n",
       "             2              36⋅╲╱ 3 ⋅╲╱ -w(x_z) ⋅cos⎜──────⎟⋅────(q_s(x_z))⋅──\n",
       " ⎛φ(x_z)⎞   d                                       ⎝  3   ⎠ dx_z           dx\n",
       "s⎜──────⎟⋅─────(q_s(x_z)) - ──────────────────────────────────────────────────\n",
       " ⎝  3   ⎠     2                                        w(x_z)                 \n",
       "          dx_z                                                                \n",
       "──────────────────────────────────────────────────────────────────────────────\n",
       "                                                                              \n",
       "\n",
       "                              \n",
       "                              \n",
       "                              \n",
       "──(w(x_z))         2          \n",
       "_z                d           \n",
       "────────── - 18⋅─────(C₁(x_z))\n",
       "                    2         \n",
       "                dx_z          \n",
       "──────────────────────────────\n",
       "                              "
      ]
     },
     "metadata": {},
     "output_type": "display_data"
    }
   ],
   "source": [
    "diff(f_1, x_z, x_z)"
   ]
  },
  {
   "cell_type": "code",
   "execution_count": 91,
   "metadata": {},
   "outputs": [
    {
     "data": {
      "image/png": "[encoded data removed]",
      "text/plain": [
       "                  ⎛                                                           \n",
       "  ___   _________ ⎜              ⎛φ(x_z)⎞  d            d                     \n",
       "╲╱ 3 ⋅╲╱ -w(x_z) ⋅⎜2⋅q_s(x_z)⋅sin⎜──────⎟⋅────(φ(x_z))⋅────(w(x_z)) - 3⋅q_s(x_\n",
       "                  ⎜              ⎝  3   ⎠ dx_z         dx_z                   \n",
       "                  ⎝                                                           \n",
       "──────────────────────────────────────────────────────────────────────────────\n",
       "                                                                              \n",
       "──────────────────────────────────────────────────────────────────────────────\n",
       "                                                                              \n",
       "                                                                              \n",
       "\n",
       "                  2                                                     ⎞     \n",
       "      ⎛φ(x_z)⎞   d                  ⎛φ(x_z)⎞  d              d          ⎟     \n",
       "z)⋅cos⎜──────⎟⋅─────(w(x_z)) - 6⋅cos⎜──────⎟⋅────(q_s(x_z))⋅────(w(x_z))⎟⋅w(x_\n",
       "      ⎝  3   ⎠     2                ⎝  3   ⎠ dx_z           dx_z        ⎟     \n",
       "               dx_z                                                     ⎠     \n",
       "──────────────────────────────────────────────────────────────────────────────\n",
       "9                                                                             \n",
       "──────────────────────────────────────────────────────────────────────────────\n",
       "                                                                              \n",
       "                                                                              \n",
       "\n",
       "                                                              ⎛               \n",
       "                                                          2   ⎜     ___   ____\n",
       "z)     ___   _________             ⎛φ(x_z)⎞ ⎛ d          ⎞    ⎜12⋅╲╱ 3 ⋅╲╱ -w(\n",
       "     ╲╱ 3 ⋅╲╱ -w(x_z) ⋅q_s(x_z)⋅cos⎜──────⎟⋅⎜────(w(x_z))⎟    ⎜               \n",
       "                                   ⎝  3   ⎠ ⎝dx_z        ⎠    ⎝               \n",
       "── + ────────────────────────────────────────────────────── + ────────────────\n",
       "                               6                                              \n",
       "──────────────────────────────────────────────────────────────────────────────\n",
       "                                                                              \n",
       "                                                                              \n",
       "\n",
       "                              2                                               \n",
       "_____             ⎛φ(x_z)⎞   d                 ___   _________             ⎛φ(\n",
       "x_z) ⋅q_s(x_z)⋅sin⎜──────⎟⋅─────(φ(x_z)) + 4⋅╲╱ 3 ⋅╲╱ -w(x_z) ⋅q_s(x_z)⋅cos⎜──\n",
       "                  ⎝  3   ⎠     2                                           ⎝  \n",
       "                           dx_z                                               \n",
       "──────────────────────────────────────────────────────────────────────────────\n",
       "                                                                              \n",
       "──────────────────────────────────────────────────────────────────────────────\n",
       " 2                                                                            \n",
       "w (x_z)                                                                       \n",
       "\n",
       "                    2                                                         \n",
       "x_z)⎞ ⎛ d          ⎞         ___   _________    ⎛φ(x_z)⎞  d            d      \n",
       "────⎟⋅⎜────(φ(x_z))⎟  + 24⋅╲╱ 3 ⋅╲╱ -w(x_z) ⋅sin⎜──────⎟⋅────(φ(x_z))⋅────(q_s\n",
       "3   ⎠ ⎝dx_z        ⎠                            ⎝  3   ⎠ dx_z         dx_z    \n",
       "                                                                              \n",
       "──────────────────────────────────────────────────────────────────────────────\n",
       "                                  54                                          \n",
       "──────────────────────────────────────────────────────────────────────────────\n",
       "                                                                              \n",
       "                                                                              \n",
       "\n",
       "                                             2                    2          ⎞\n",
       "              ___   _________    ⎛φ(x_z)⎞   d                    d           ⎟\n",
       "(x_z)) - 36⋅╲╱ 3 ⋅╲╱ -w(x_z) ⋅cos⎜──────⎟⋅─────(q_s(x_z)) - 18⋅─────(C₁(x_z))⎟\n",
       "                                 ⎝  3   ⎠     2                    2         ⎟\n",
       "                                          dx_z                 dx_z          ⎠\n",
       "──────────────────────────────────────────────────────────────────────────────\n",
       "                                                                              \n",
       "──────────────────────────────────────────────────────────────────────────────\n",
       "                                                                              \n",
       "                                                                              \n",
       "\n",
       "        \n",
       "  2     \n",
       "⋅w (x_z)\n",
       "        \n",
       "        \n",
       "────────\n",
       "        \n",
       "────────\n",
       "        \n",
       "        "
      ]
     },
     "metadata": {},
     "output_type": "display_data"
    }
   ],
   "source": [
    "diff(f_1, x_z, x_z).simplify()"
   ]
  },
  {
   "cell_type": "markdown",
   "metadata": {},
   "source": [
    "#### $f_2$"
   ]
  },
  {
   "cell_type": "code",
   "execution_count": 92,
   "metadata": {},
   "outputs": [
    {
     "data": {
      "image/png": "[encoded data removed]",
      "text/plain": [
       "    ___   _________             ⎛φ(x_z)   π⎞          \n",
       "2⋅╲╱ 3 ⋅╲╱ -w(x_z) ⋅q_s(x_z)⋅sin⎜────── + ─⎟          \n",
       "                                ⎝  3      6⎠   C₁(x_z)\n",
       "──────────────────────────────────────────── - ───────\n",
       "                     3                            3   "
      ]
     },
     "metadata": {},
     "output_type": "display_data"
    }
   ],
   "source": [
    "f_2 = - Rational(2) * q_s(x_z) * sqrt(- w(x_z) / Rational(3.0)) * cos(phi(x_z)/Rational(3.0) + 2 * pi /Rational(3.0)) - C_1(x_z)/Rational(3.0)\n",
    "f_2"
   ]
  },
  {
   "cell_type": "markdown",
   "metadata": {},
   "source": [
    "### $\\frac{d}{dx_z} \\left(  f_2\\right)$"
   ]
  },
  {
   "cell_type": "code",
   "execution_count": 95,
   "metadata": {},
   "outputs": [
    {
     "data": {
      "image/png": "[encoded data removed]",
      "text/plain": [
       "    ___   _________             ⎛φ(x_z)   π⎞  d               ___   _________ \n",
       "2⋅╲╱ 3 ⋅╲╱ -w(x_z) ⋅q_s(x_z)⋅cos⎜────── + ─⎟⋅────(φ(x_z))   ╲╱ 3 ⋅╲╱ -w(x_z) ⋅\n",
       "                                ⎝  3      6⎠ dx_z                             \n",
       "───────────────────────────────────────────────────────── + ──────────────────\n",
       "                            9                                                 \n",
       "\n",
       "            ⎛φ(x_z)   π⎞  d                 ___   _________    ⎛φ(x_z)   π⎞  d\n",
       "q_s(x_z)⋅sin⎜────── + ─⎟⋅────(w(x_z))   2⋅╲╱ 3 ⋅╲╱ -w(x_z) ⋅sin⎜────── + ─⎟⋅──\n",
       "            ⎝  3      6⎠ dx_z                                  ⎝  3      6⎠ dx\n",
       "───────────────────────────────────── + ──────────────────────────────────────\n",
       "      3⋅w(x_z)                                                  3             \n",
       "\n",
       "                d           \n",
       "──(q_s(x_z))   ────(C₁(x_z))\n",
       "_z             dx_z         \n",
       "──────────── - ─────────────\n",
       "                     3      "
      ]
     },
     "metadata": {},
     "output_type": "display_data"
    }
   ],
   "source": [
    "diff(f_2, x_z)"
   ]
  },
  {
   "cell_type": "markdown",
   "metadata": {},
   "source": [
    "### $\\frac{d^2}{dx_z^2} \\left(  f_2\\right)$"
   ]
  },
  {
   "cell_type": "code",
   "execution_count": 93,
   "metadata": {},
   "outputs": [
    {
     "data": {
      "image/png": "[encoded data removed]",
      "text/plain": [
       "                                                                              \n",
       "                                                                              \n",
       "                                                                              \n",
       "                                                               2              \n",
       "      ___   _________             ⎛2⋅φ(x_z) + π⎞ ⎛ d          ⎞         ___   \n",
       "- 4⋅╲╱ 3 ⋅╲╱ -w(x_z) ⋅q_s(x_z)⋅sin⎜────────────⎟⋅⎜────(φ(x_z))⎟  + 12⋅╲╱ 3 ⋅╲╱\n",
       "                                  ⎝     6      ⎠ ⎝dx_z        ⎠               \n",
       "                                                                              \n",
       "──────────────────────────────────────────────────────────────────────────────\n",
       "                                                                              \n",
       "\n",
       "                                                                              \n",
       "                                                          ___   _________     \n",
       "                                                     18⋅╲╱ 3 ⋅╲╱ -w(x_z) ⋅q_s(\n",
       "                                        2                                     \n",
       "_________             ⎛2⋅φ(x_z) + π⎞   d                                      \n",
       " -w(x_z) ⋅q_s(x_z)⋅cos⎜────────────⎟⋅─────(φ(x_z)) + ─────────────────────────\n",
       "                      ⎝     6      ⎠     2                                    \n",
       "                                     dx_z                                     \n",
       "──────────────────────────────────────────────────────────────────────────────\n",
       "                                                                              \n",
       "\n",
       "                          2                                                   \n",
       "        ⎛2⋅φ(x_z) + π⎞   d                                                    \n",
       "x_z)⋅sin⎜────────────⎟⋅─────(w(x_z))        ___   _________             ⎛2⋅φ(x\n",
       "        ⎝     6      ⎠     2           12⋅╲╱ 3 ⋅╲╱ -w(x_z) ⋅q_s(x_z)⋅cos⎜─────\n",
       "                       dx_z                                             ⎝     \n",
       "──────────────────────────────────── + ───────────────────────────────────────\n",
       "   w(x_z)                                                                w(x_z\n",
       "                                                                              \n",
       "──────────────────────────────────────────────────────────────────────────────\n",
       "                                                                              \n",
       "\n",
       "                                                                              \n",
       "                                                                              \n",
       "_z) + π⎞  d            d                 ___   _________             ⎛2⋅φ(x_z)\n",
       "───────⎟⋅────(φ(x_z))⋅────(w(x_z))   9⋅╲╱ 3 ⋅╲╱ -w(x_z) ⋅q_s(x_z)⋅sin⎜────────\n",
       "6      ⎠ dx_z         dx_z                                           ⎝     6  \n",
       "────────────────────────────────── - ─────────────────────────────────────────\n",
       ")                                                                2            \n",
       "                                                                w (x_z)       \n",
       "──────────────────────────────────────────────────────────────────────────────\n",
       "                                       54                                     \n",
       "\n",
       "                                                                              \n",
       "                    2                                                         \n",
       " + π⎞ ⎛ d          ⎞                                                          \n",
       "────⎟⋅⎜────(w(x_z))⎟                                              2           \n",
       "    ⎠ ⎝dx_z        ⎠         ___   _________    ⎛2⋅φ(x_z) + π⎞   d            \n",
       "───────────────────── + 36⋅╲╱ 3 ⋅╲╱ -w(x_z) ⋅sin⎜────────────⎟⋅─────(q_s(x_z))\n",
       "                                                ⎝     6      ⎠     2          \n",
       "                                                               dx_z           \n",
       "──────────────────────────────────────────────────────────────────────────────\n",
       "                                                                              \n",
       "\n",
       "                                                                              \n",
       "                                                                              \n",
       "                                                                             _\n",
       "                                                                        36⋅╲╱ \n",
       "        ___   _________    ⎛2⋅φ(x_z) + π⎞  d            d                     \n",
       " + 24⋅╲╱ 3 ⋅╲╱ -w(x_z) ⋅cos⎜────────────⎟⋅────(φ(x_z))⋅────(q_s(x_z)) + ──────\n",
       "                           ⎝     6      ⎠ dx_z         dx_z                   \n",
       "                                                                              \n",
       "──────────────────────────────────────────────────────────────────────────────\n",
       "                                                                              \n",
       "\n",
       "                                                                              \n",
       "                                                                              \n",
       "__   _________    ⎛2⋅φ(x_z) + π⎞  d              d                            \n",
       "3 ⋅╲╱ -w(x_z) ⋅sin⎜────────────⎟⋅────(q_s(x_z))⋅────(w(x_z))         2        \n",
       "                  ⎝     6      ⎠ dx_z           dx_z                d         \n",
       "──────────────────────────────────────────────────────────── - 18⋅─────(C₁(x_z\n",
       "                        w(x_z)                                        2       \n",
       "                                                                  dx_z        \n",
       "──────────────────────────────────────────────────────────────────────────────\n",
       "                                                                              \n",
       "\n",
       "  \n",
       "  \n",
       "  \n",
       "  \n",
       "  \n",
       "))\n",
       "  \n",
       "  \n",
       "──\n",
       "  "
      ]
     },
     "metadata": {},
     "output_type": "display_data"
    }
   ],
   "source": [
    "diff(f_2, x_z, x_z)"
   ]
  },
  {
   "cell_type": "code",
   "execution_count": 94,
   "metadata": {},
   "outputs": [
    {
     "data": {
      "image/png": "[encoded data removed]",
      "text/plain": [
       "                  ⎛                              2                            \n",
       "  ___   _________ ⎜              ⎛φ(x_z)   π⎞   d                           ⎛φ\n",
       "╲╱ 3 ⋅╲╱ -w(x_z) ⋅⎜3⋅q_s(x_z)⋅sin⎜────── + ─⎟⋅─────(w(x_z)) + 2⋅q_s(x_z)⋅cos⎜─\n",
       "                  ⎜              ⎝  3      6⎠     2                         ⎝ \n",
       "                  ⎝                           dx_z                            \n",
       "──────────────────────────────────────────────────────────────────────────────\n",
       "                                                                              \n",
       "──────────────────────────────────────────────────────────────────────────────\n",
       "                                                                              \n",
       "                                                                              \n",
       "\n",
       "                                                                              \n",
       "(x_z)   π⎞  d            d                  ⎛φ(x_z)   π⎞  d              d    \n",
       "───── + ─⎟⋅────(φ(x_z))⋅────(w(x_z)) + 6⋅sin⎜────── + ─⎟⋅────(q_s(x_z))⋅────(w\n",
       " 3      6⎠ dx_z         dx_z                ⎝  3      6⎠ dx_z           dx_z  \n",
       "                                                                              \n",
       "──────────────────────────────────────────────────────────────────────────────\n",
       "      9                                                                       \n",
       "──────────────────────────────────────────────────────────────────────────────\n",
       "                                                                              \n",
       "                                                                              \n",
       "\n",
       "      ⎞                                                                       \n",
       "      ⎟                                                                   2   \n",
       "(x_z))⎟⋅w(x_z)     ___   _________             ⎛φ(x_z)   π⎞ ⎛ d          ⎞    \n",
       "      ⎟          ╲╱ 3 ⋅╲╱ -w(x_z) ⋅q_s(x_z)⋅sin⎜────── + ─⎟⋅⎜────(w(x_z))⎟    \n",
       "      ⎠                                        ⎝  3      6⎠ ⎝dx_z        ⎠    \n",
       "────────────── - ────────────────────────────────────────────────────────── + \n",
       "                                             6                                \n",
       "──────────────────────────────────────────────────────────────────────────────\n",
       "                                                                              \n",
       "                                                                              \n",
       "\n",
       "⎛                                                             2               \n",
       "⎜      ___   _________             ⎛φ(x_z)   π⎞ ⎛ d          ⎞         ___   _\n",
       "⎜- 4⋅╲╱ 3 ⋅╲╱ -w(x_z) ⋅q_s(x_z)⋅sin⎜────── + ─⎟⋅⎜────(φ(x_z))⎟  + 12⋅╲╱ 3 ⋅╲╱ \n",
       "⎜                                  ⎝  3      6⎠ ⎝dx_z        ⎠                \n",
       "⎝                                                                             \n",
       "──────────────────────────────────────────────────────────────────────────────\n",
       "                                                                              \n",
       "──────────────────────────────────────────────────────────────────────────────\n",
       "                  2                                                           \n",
       "                 w (x_z)                                                      \n",
       "\n",
       "                                     2                                        \n",
       "________             ⎛φ(x_z)   π⎞   d                  ___   _________    ⎛φ(x\n",
       "-w(x_z) ⋅q_s(x_z)⋅cos⎜────── + ─⎟⋅─────(φ(x_z)) + 36⋅╲╱ 3 ⋅╲╱ -w(x_z) ⋅sin⎜───\n",
       "                     ⎝  3      6⎠     2                                   ⎝  3\n",
       "                                  dx_z                                        \n",
       "──────────────────────────────────────────────────────────────────────────────\n",
       "                                                           54                 \n",
       "──────────────────────────────────────────────────────────────────────────────\n",
       "                                                                              \n",
       "                                                                              \n",
       "\n",
       "            2                                                                 \n",
       "_z)   π⎞   d                    ___   _________    ⎛φ(x_z)   π⎞  d            \n",
       "─── + ─⎟⋅─────(q_s(x_z)) + 24⋅╲╱ 3 ⋅╲╱ -w(x_z) ⋅cos⎜────── + ─⎟⋅────(φ(x_z))⋅─\n",
       "      6⎠     2                                     ⎝  3      6⎠ dx_z         d\n",
       "         dx_z                                                                 \n",
       "──────────────────────────────────────────────────────────────────────────────\n",
       "                                                                              \n",
       "──────────────────────────────────────────────────────────────────────────────\n",
       "                                                                              \n",
       "                                                                              \n",
       "\n",
       "                      2          ⎞        \n",
       "d                    d           ⎟  2     \n",
       "───(q_s(x_z)) - 18⋅─────(C₁(x_z))⎟⋅w (x_z)\n",
       "x_z                    2         ⎟        \n",
       "                   dx_z          ⎠        \n",
       "──────────────────────────────────────────\n",
       "                                          \n",
       "──────────────────────────────────────────\n",
       "                                          \n",
       "                                          "
      ]
     },
     "metadata": {},
     "output_type": "display_data"
    }
   ],
   "source": [
    "diff(f_2, x_z, x_z).simplify()"
   ]
  },
  {
   "cell_type": "code",
   "execution_count": 97,
   "metadata": {},
   "outputs": [
    {
     "data": {
      "image/png": "[encoded data removed]",
      "text/plain": [
       "      ___   _________             ⎛φ(x_z)   π⎞          \n",
       "  2⋅╲╱ 3 ⋅╲╱ -w(x_z) ⋅q_s(x_z)⋅cos⎜────── + ─⎟          \n",
       "                                  ⎝  3      3⎠   C₁(x_z)\n",
       "- ──────────────────────────────────────────── - ───────\n",
       "                       3                            3   "
      ]
     },
     "metadata": {},
     "output_type": "display_data"
    }
   ],
   "source": [
    "f_3 = Rational(2) * q_s(x_z) * sqrt(- w(x_z) / Rational(3.0)) * cos(phi(x_z)/Rational(3.0) + 4 * pi /Rational(3.0)) - C_1(x_z)/Rational(3.0)\n",
    "f_3"
   ]
  },
  {
   "cell_type": "markdown",
   "metadata": {},
   "source": [
    "### $\\frac{d}{dx_z} \\left(  f_3\\right)$"
   ]
  },
  {
   "cell_type": "code",
   "execution_count": 98,
   "metadata": {},
   "outputs": [
    {
     "data": {
      "image/png": "[encoded data removed]",
      "text/plain": [
       "    ___   _________             ⎛φ(x_z)   π⎞  d               ___   _________ \n",
       "2⋅╲╱ 3 ⋅╲╱ -w(x_z) ⋅q_s(x_z)⋅sin⎜────── + ─⎟⋅────(φ(x_z))   ╲╱ 3 ⋅╲╱ -w(x_z) ⋅\n",
       "                                ⎝  3      3⎠ dx_z                             \n",
       "───────────────────────────────────────────────────────── - ──────────────────\n",
       "                            9                                                 \n",
       "\n",
       "            ⎛φ(x_z)   π⎞  d                 ___   _________    ⎛φ(x_z)   π⎞  d\n",
       "q_s(x_z)⋅cos⎜────── + ─⎟⋅────(w(x_z))   2⋅╲╱ 3 ⋅╲╱ -w(x_z) ⋅cos⎜────── + ─⎟⋅──\n",
       "            ⎝  3      3⎠ dx_z                                  ⎝  3      3⎠ dx\n",
       "───────────────────────────────────── - ──────────────────────────────────────\n",
       "      3⋅w(x_z)                                                  3             \n",
       "\n",
       "                d           \n",
       "──(q_s(x_z))   ────(C₁(x_z))\n",
       "_z             dx_z         \n",
       "──────────── - ─────────────\n",
       "                     3      "
      ]
     },
     "metadata": {},
     "output_type": "display_data"
    }
   ],
   "source": [
    "diff(f_3, x_z)"
   ]
  },
  {
   "cell_type": "markdown",
   "metadata": {},
   "source": [
    "### $\\frac{d^2}{dx_z^2} \\left(  f_3\\right)$"
   ]
  },
  {
   "cell_type": "code",
   "execution_count": 99,
   "metadata": {},
   "outputs": [
    {
     "data": {
      "image/png": "[encoded data removed]",
      "text/plain": [
       "                                                                              \n",
       "                                                                              \n",
       "                                                                              \n",
       "                                                 2                            \n",
       "     ___   _________             ⎛φ(x_z) + π⎞   d                 ___   ______\n",
       "12⋅╲╱ 3 ⋅╲╱ -w(x_z) ⋅q_s(x_z)⋅sin⎜──────────⎟⋅─────(φ(x_z)) + 4⋅╲╱ 3 ⋅╲╱ -w(x_\n",
       "                                 ⎝    3     ⎠     2                           \n",
       "                                              dx_z                            \n",
       "──────────────────────────────────────────────────────────────────────────────\n",
       "                                                                              \n",
       "\n",
       "                                                                              \n",
       "                                                                              \n",
       "                                                    ___   _________           \n",
       "                                           2   12⋅╲╱ 3 ⋅╲╱ -w(x_z) ⋅q_s(x_z)⋅s\n",
       "___             ⎛φ(x_z) + π⎞ ⎛ d          ⎞                                   \n",
       "z) ⋅q_s(x_z)⋅cos⎜──────────⎟⋅⎜────(φ(x_z))⎟  + ───────────────────────────────\n",
       "                ⎝    3     ⎠ ⎝dx_z        ⎠                                   \n",
       "                                                                              \n",
       "──────────────────────────────────────────────────────────────────────────────\n",
       "                                                                              \n",
       "\n",
       "                                                                              \n",
       "                                                ___   _________             ⎛φ\n",
       "  ⎛φ(x_z) + π⎞  d            d             18⋅╲╱ 3 ⋅╲╱ -w(x_z) ⋅q_s(x_z)⋅cos⎜─\n",
       "in⎜──────────⎟⋅────(φ(x_z))⋅────(w(x_z))                                    ⎝ \n",
       "  ⎝    3     ⎠ dx_z         dx_z                                              \n",
       "──────────────────────────────────────── - ───────────────────────────────────\n",
       "  w(x_z)                                                              w(x_z)  \n",
       "                                                                              \n",
       "──────────────────────────────────────────────────────────────────────────────\n",
       "                                                                              \n",
       "\n",
       "              2                                                               \n",
       "(x_z) + π⎞   d                                                                \n",
       "─────────⎟⋅─────(w(x_z))       ___   _________             ⎛φ(x_z) + π⎞ ⎛ d   \n",
       "   3     ⎠     2           9⋅╲╱ 3 ⋅╲╱ -w(x_z) ⋅q_s(x_z)⋅cos⎜──────────⎟⋅⎜────(\n",
       "           dx_z                                            ⎝    3     ⎠ ⎝dx_z \n",
       "──────────────────────── + ───────────────────────────────────────────────────\n",
       "                                                      2                       \n",
       "                                                     w (x_z)                  \n",
       "──────────────────────────────────────────────────────────────────────────────\n",
       "                              54                                              \n",
       "\n",
       "                                                                              \n",
       "        2                                                                     \n",
       "       ⎞                                                                      \n",
       "w(x_z))⎟                                                                      \n",
       "       ⎠         ___   _________    ⎛φ(x_z) + π⎞  d            d              \n",
       "───────── + 24⋅╲╱ 3 ⋅╲╱ -w(x_z) ⋅sin⎜──────────⎟⋅────(φ(x_z))⋅────(q_s(x_z)) -\n",
       "                                    ⎝    3     ⎠ dx_z         dx_z            \n",
       "                                                                              \n",
       "──────────────────────────────────────────────────────────────────────────────\n",
       "                                                                              \n",
       "\n",
       "                                                                              \n",
       "                                                                              \n",
       "                                                             ___   _________  \n",
       "                                         2              36⋅╲╱ 3 ⋅╲╱ -w(x_z) ⋅c\n",
       "      ___   _________    ⎛φ(x_z) + π⎞   d                                     \n",
       " 36⋅╲╱ 3 ⋅╲╱ -w(x_z) ⋅cos⎜──────────⎟⋅─────(q_s(x_z)) - ──────────────────────\n",
       "                         ⎝    3     ⎠     2                                   \n",
       "                                      dx_z                                    \n",
       "──────────────────────────────────────────────────────────────────────────────\n",
       "                                                                              \n",
       "\n",
       "                                                              \n",
       "                                                              \n",
       "  ⎛φ(x_z) + π⎞  d              d                              \n",
       "os⎜──────────⎟⋅────(q_s(x_z))⋅────(w(x_z))         2          \n",
       "  ⎝    3     ⎠ dx_z           dx_z                d           \n",
       "────────────────────────────────────────── - 18⋅─────(C₁(x_z))\n",
       "       w(x_z)                                       2         \n",
       "                                                dx_z          \n",
       "──────────────────────────────────────────────────────────────\n",
       "                                                              "
      ]
     },
     "metadata": {},
     "output_type": "display_data"
    }
   ],
   "source": [
    "diff(f_3, x_z, x_z)"
   ]
  },
  {
   "cell_type": "markdown",
   "metadata": {},
   "source": [
    "### Sub Functionals"
   ]
  },
  {
   "cell_type": "markdown",
   "metadata": {},
   "source": [
    "### $\\frac{d}{dx_z} \\left(  q_s\\right)$"
   ]
  },
  {
   "cell_type": "code",
   "execution_count": 142,
   "metadata": {},
   "outputs": [
    {
     "data": {
      "image/png": "[encoded data removed]",
      "text/plain": [
       "  ⎛            d                             d              ⎞           d     \n",
       "  ⎜re(q(x_z))⋅────(re(q(x_z))) + im(q(x_z))⋅────(im(q(x_z)))⎟⋅q(x_z)   ────(q(\n",
       "  ⎝           dx_z                          dx_z            ⎠          dx_z   \n",
       "- ────────────────────────────────────────────────────────────────── + ───────\n",
       "                                      3                                  │q(x_\n",
       "                              │q(x_z)│                                        \n",
       "\n",
       "     \n",
       "x_z))\n",
       "     \n",
       "─────\n",
       "z)│  \n",
       "     "
      ]
     },
     "metadata": {},
     "output_type": "display_data"
    }
   ],
   "source": [
    "diff(q(x_z)/abs(q(x_z)), x_z)"
   ]
  },
  {
   "cell_type": "markdown",
   "metadata": {},
   "source": [
    "### $\\frac{d^2}{dx_z^2} \\left(  q_s\\right)$"
   ]
  },
  {
   "cell_type": "code",
   "execution_count": 143,
   "metadata": {},
   "outputs": [
    {
     "data": {
      "image/png": "[encoded data removed]",
      "text/plain": [
       "                                                                              \n",
       "                                                             2                \n",
       "  ⎛            d                             d              ⎞             ⎛   \n",
       "3⋅⎜re(q(x_z))⋅────(re(q(x_z))) + im(q(x_z))⋅────(im(q(x_z)))⎟ ⋅q(x_z)   2⋅⎜re(\n",
       "  ⎝           dx_z                          dx_z            ⎠             ⎝   \n",
       "───────────────────────────────────────────────────────────────────── - ──────\n",
       "                                      4                                       \n",
       "                              │q(x_z)│                                        \n",
       "──────────────────────────────────────────────────────────────────────────────\n",
       "                                                                              \n",
       "\n",
       "                                                                       ⎛      \n",
       "                                                                       ⎜      \n",
       "         d                             d              ⎞  d             ⎜re(q(x\n",
       "q(x_z))⋅────(re(q(x_z))) + im(q(x_z))⋅────(im(q(x_z)))⎟⋅────(q(x_z))   ⎜      \n",
       "        dx_z                          dx_z            ⎠ dx_z           ⎝      \n",
       "──────────────────────────────────────────────────────────────────── - ───────\n",
       "                                  2                                           \n",
       "                          │q(x_z)│                                            \n",
       "──────────────────────────────────────────────────────────────────────────────\n",
       "                                                         │q(x_z)│             \n",
       "\n",
       "        2                              2                                  2   \n",
       "       d                              d                 ⎛ d              ⎞    \n",
       "_z))⋅─────(re(q(x_z))) + im(q(x_z))⋅─────(im(q(x_z))) + ⎜────(re(q(x_z)))⎟  + \n",
       "         2                              2               ⎝dx_z            ⎠    \n",
       "     dx_z                           dx_z                                      \n",
       "──────────────────────────────────────────────────────────────────────────────\n",
       "                                                    2                         \n",
       "                                            │q(x_z)│                          \n",
       "──────────────────────────────────────────────────────────────────────────────\n",
       "                                                                              \n",
       "\n",
       "                  2⎞                       \n",
       "⎛ d              ⎞ ⎟                       \n",
       "⎜────(im(q(x_z)))⎟ ⎟⋅q(x_z)                \n",
       "⎝dx_z            ⎠ ⎟             2         \n",
       "                   ⎠            d          \n",
       "─────────────────────────── + ─────(q(x_z))\n",
       "                                  2        \n",
       "                              dx_z         \n",
       "───────────────────────────────────────────\n",
       "                                           "
      ]
     },
     "metadata": {},
     "output_type": "display_data"
    }
   ],
   "source": [
    "diff(q(x_z)/abs(q(x_z)), x_z, x_z)"
   ]
  },
  {
   "cell_type": "markdown",
   "metadata": {},
   "source": [
    "### $\\frac{d}{dx_z} \\left(  \\phi \\right)$"
   ]
  },
  {
   "cell_type": "code",
   "execution_count": 147,
   "metadata": {},
   "outputs": [
    {
     "data": {
      "image/png": "[encoded data removed]",
      "text/plain": [
       "    ⎛              _________⎞\n",
       "    ⎜             ╱  2      ⎟\n",
       "    ⎜    ___     ╱  q (x_z) ⎟\n",
       "    ⎜3⋅╲╱ 3 ⋅   ╱   ─────── ⎟\n",
       "    ⎜          ╱     3      ⎟\n",
       "    ⎜        ╲╱     w (x_z) ⎟\n",
       "    ⎜───────────────────────⎟\n",
       "    ⎝           2           ⎠\n",
       "                             \n",
       "acos                         "
      ]
     },
     "metadata": {},
     "output_type": "display_data"
    }
   ],
   "source": [
    "phi_func = acos(sqrt(( ((q(x_z)/Rational(2.0))**2)/(w(x_z)/Rational(3.0))**3) ))\n",
    "phi_func"
   ]
  },
  {
   "cell_type": "code",
   "execution_count": 148,
   "metadata": {},
   "outputs": [
    {
     "data": {
      "image/png": "[encoded data removed]",
      "text/plain": [
       "               _________ ⎛     2       d                     d          ⎞     \n",
       "              ╱  2       ⎜  3⋅q (x_z)⋅────(w(x_z))   q(x_z)⋅────(q(x_z))⎟     \n",
       "     ___     ╱  q (x_z)  ⎜            dx_z                  dx_z        ⎟  3  \n",
       "-3⋅╲╱ 3 ⋅   ╱   ─────── ⋅⎜- ────────────────────── + ───────────────────⎟⋅w (x\n",
       "           ╱     3       ⎜           4                      3           ⎟     \n",
       "         ╲╱     w (x_z)  ⎝        2⋅w (x_z)                w (x_z)      ⎠     \n",
       "──────────────────────────────────────────────────────────────────────────────\n",
       "                                __________________                            \n",
       "                               ╱       2                                      \n",
       "                              ╱    27⋅q (x_z)       2                         \n",
       "                        2⋅   ╱   - ────────── + 1 ⋅q (x_z)                    \n",
       "                            ╱         3                                       \n",
       "                          ╲╱       4⋅w (x_z)                                  \n",
       "\n",
       "    \n",
       "    \n",
       "    \n",
       "_z) \n",
       "    \n",
       "    \n",
       "────\n",
       "    \n",
       "    \n",
       "    \n",
       "    \n",
       "    \n",
       "    "
      ]
     },
     "metadata": {},
     "output_type": "display_data"
    }
   ],
   "source": [
    "diff(phi_func, x_z)"
   ]
  },
  {
   "cell_type": "markdown",
   "metadata": {},
   "source": [
    "### $\\frac{d^2}{dx_z^2} \\left(  \\phi \\right)$"
   ]
  },
  {
   "cell_type": "code",
   "execution_count": 149,
   "metadata": {},
   "outputs": [
    {
     "data": {
      "image/png": "[encoded data removed]",
      "text/plain": [
       "                        ⎛                                                     \n",
       "                        ⎜                                                     \n",
       "                        ⎜                                          2          \n",
       "                        ⎜  ⎛          d                           ⎞      ⎛    \n",
       "                        ⎜  ⎜3⋅q(x_z)⋅────(w(x_z))                 ⎟      ⎜3⋅q(\n",
       "              _________ ⎜  ⎜         dx_z              d          ⎟      ⎜    \n",
       "             ╱  2       ⎜  ⎜───────────────────── - 2⋅────(q(x_z))⎟    6⋅⎜────\n",
       "    ___     ╱  q (x_z)  ⎜  ⎝        w(x_z)            dx_z        ⎠      ⎝    \n",
       "3⋅╲╱ 3 ⋅   ╱   ─────── ⋅⎜- ───────────────────────────────────────── + ───────\n",
       "          ╱     3       ⎜                    2                                \n",
       "        ╲╱     w (x_z)  ⎜                   q (x_z)                           \n",
       "                        ⎜                                                     \n",
       "                        ⎜                                                     \n",
       "                        ⎝                                                     \n",
       "──────────────────────────────────────────────────────────────────────────────\n",
       "                                                                              \n",
       "                                                                              \n",
       "                                                                              \n",
       "                                                                              \n",
       "                                                                              \n",
       "                                                                              \n",
       "\n",
       "                                                                              \n",
       "                                                                              \n",
       "                                                                              \n",
       "      d                           ⎞                  ⎛          d             \n",
       "x_z)⋅────(w(x_z))                 ⎟                  ⎜3⋅q(x_z)⋅────(w(x_z))   \n",
       "     dx_z              d          ⎟  d               ⎜         dx_z           \n",
       "───────────────── - 2⋅────(q(x_z))⎟⋅────(w(x_z))   4⋅⎜───────────────────── - \n",
       "    w(x_z)            dx_z        ⎠ dx_z             ⎝        w(x_z)          \n",
       "──────────────────────────────────────────────── - ───────────────────────────\n",
       "              q(x_z)⋅w(x_z)                                                 2 \n",
       "                                                                           q (\n",
       "                                                                              \n",
       "                                                                              \n",
       "                                                                              \n",
       "──────────────────────────────────────────────────────────────────────────────\n",
       "                                                                              \n",
       "                                                                              \n",
       "                                                                              \n",
       "                                                                              \n",
       "                                                                              \n",
       "                                                                              \n",
       "\n",
       "                                 ⎛               2                            \n",
       "                                 ⎜     2        d                             \n",
       "                                 ⎜  3⋅q (x_z)⋅─────(w(x_z))       2      ⎛ d  \n",
       "              ⎞                  ⎜                2           12⋅q (x_z)⋅⎜────\n",
       "              ⎟                  ⎜            dx_z                       ⎝dx_z\n",
       "   d          ⎟  d             2⋅⎜- ─────────────────────── + ────────────────\n",
       "2⋅────(q(x_z))⎟⋅────(q(x_z))     ⎜           w(x_z)                     2     \n",
       "  dx_z        ⎠ dx_z             ⎝                                     w (x_z)\n",
       "──────────────────────────── - ───────────────────────────────────────────────\n",
       "                                                                              \n",
       "x_z)                                                                          \n",
       "                                                                              \n",
       "                                                                              \n",
       "                                                                              \n",
       "──────────────────────────────────────────────────────────────────────────────\n",
       "                           __________________                                 \n",
       "                          ╱       2                                           \n",
       "                         ╱    27⋅q (x_z)                                      \n",
       "                   4⋅   ╱   - ────────── + 4                                  \n",
       "                       ╱        3                                             \n",
       "                     ╲╱        w (x_z)                                        \n",
       "\n",
       "                                                                              \n",
       "         2                                                                    \n",
       "        ⎞                                        d            d               \n",
       "(w(x_z))⎟                2            12⋅q(x_z)⋅────(q(x_z))⋅────(w(x_z))     \n",
       "        ⎠               d                       dx_z         dx_z             \n",
       "────────── + 2⋅q(x_z)⋅─────(q(x_z)) - ─────────────────────────────────── + 2⋅\n",
       "                          2                          w(x_z)                   \n",
       "                      dx_z                                                    \n",
       "──────────────────────────────────────────────────────────────────────────────\n",
       "                     2                                                        \n",
       "                    q (x_z)                                                   \n",
       "                                                                              \n",
       "                                                                              \n",
       "                                                                              \n",
       "──────────────────────────────────────────────────────────────────────────────\n",
       "                                                                              \n",
       "                                                                              \n",
       "                                                                              \n",
       "                                                                              \n",
       "                                                                              \n",
       "                                                                              \n",
       "\n",
       "               ⎞                                               ⎞\n",
       "               ⎟                                               ⎟\n",
       "               ⎟                                              2⎟\n",
       "              2⎟      ⎛          d                           ⎞ ⎟\n",
       "⎛ d          ⎞ ⎟      ⎜3⋅q(x_z)⋅────(w(x_z))                 ⎟ ⎟\n",
       "⎜────(q(x_z))⎟ ⎟      ⎜         dx_z              d          ⎟ ⎟\n",
       "⎝dx_z        ⎠ ⎟   27⋅⎜───────────────────── - 2⋅────(q(x_z))⎟ ⎟\n",
       "               ⎠      ⎝        w(x_z)            dx_z        ⎠ ⎟\n",
       "──────────────── - ────────────────────────────────────────────⎟\n",
       "                            ⎛      2         ⎞                 ⎟\n",
       "                            ⎜  27⋅q (x_z)    ⎟  3              ⎟\n",
       "                            ⎜- ────────── + 4⎟⋅w (x_z)         ⎟\n",
       "                            ⎜    3           ⎟                 ⎟\n",
       "                            ⎝   w (x_z)      ⎠                 ⎠\n",
       "────────────────────────────────────────────────────────────────\n",
       "                                                                \n",
       "                                                                \n",
       "                                                                \n",
       "                                                                \n",
       "                                                                \n",
       "                                                                "
      ]
     },
     "metadata": {},
     "output_type": "display_data"
    }
   ],
   "source": [
    "diff(phi_func, x_z, x_z)"
   ]
  },
  {
   "cell_type": "code",
   "execution_count": 150,
   "metadata": {},
   "outputs": [
    {
     "data": {
      "image/png": "[encoded data removed]",
      "text/plain": [
       "              _________                                                       \n",
       "             ╱  2       ⎛                     2                               \n",
       "    ___     ╱  q (x_z)  ⎜    3               d                 3      ⎛ d     \n",
       "3⋅╲╱ 3 ⋅   ╱   ─────── ⋅⎜81⋅q (x_z)⋅w(x_z)⋅─────(w(x_z)) - 81⋅q (x_z)⋅⎜────(w(\n",
       "          ╱     3       ⎜                      2                      ⎝dx_z   \n",
       "        ╲╱     w (x_z)  ⎝                  dx_z                               \n",
       "──────────────────────────────────────────────────────────────────────────────\n",
       "                                                                              \n",
       "                                                                              \n",
       "                                                                              \n",
       "                                                                              \n",
       "                                                                              \n",
       "                                                                              \n",
       "\n",
       "                                                                              \n",
       "      2                         2                                 2           \n",
       "     ⎞        2       2        d                        4        d            \n",
       "x_z))⎟  - 54⋅q (x_z)⋅w (x_z)⋅─────(q(x_z)) - 12⋅q(x_z)⋅w (x_z)⋅─────(w(x_z)) +\n",
       "     ⎠                           2                                 2          \n",
       "                             dx_z                              dx_z           \n",
       "──────────────────────────────────────────────────────────────────────────────\n",
       "                                       __________________________             \n",
       "                                      ╱       2           3                   \n",
       "                                     ╱  - 27⋅q (x_z) + 4⋅w (x_z)  ⎛    2      \n",
       "                               2⋅   ╱   ──────────────────────── ⋅⎝27⋅q (x_z) \n",
       "                                   ╱             3                            \n",
       "                                 ╲╱             w (x_z)                       \n",
       "\n",
       "                                                                              \n",
       "                                 2                                   2        \n",
       "            3      ⎛ d          ⎞               2      ⎛ d          ⎞       5 \n",
       " 30⋅q(x_z)⋅w (x_z)⋅⎜────(w(x_z))⎟  + 54⋅q(x_z)⋅w (x_z)⋅⎜────(q(x_z))⎟  + 8⋅w (\n",
       "                   ⎝dx_z        ⎠                      ⎝dx_z        ⎠         \n",
       "                                                                              \n",
       "──────────────────────────────────────────────────────────────────────────────\n",
       "                                                                              \n",
       "                                                                              \n",
       "     3     ⎞         2                                                        \n",
       "- 4⋅w (x_z)⎠⋅q(x_z)⋅w (x_z)                                                   \n",
       "                                                                              \n",
       "                                                                              \n",
       "\n",
       "                                                          \n",
       "        2                                                ⎞\n",
       "       d                 4       d            d          ⎟\n",
       "x_z)⋅─────(q(x_z)) - 24⋅w (x_z)⋅────(q(x_z))⋅────(w(x_z))⎟\n",
       "         2                      dx_z         dx_z        ⎟\n",
       "     dx_z                                                ⎠\n",
       "──────────────────────────────────────────────────────────\n",
       "                                                          \n",
       "                                                          \n",
       "                                                          \n",
       "                                                          \n",
       "                                                          \n",
       "                                                          "
      ]
     },
     "metadata": {},
     "output_type": "display_data"
    }
   ],
   "source": [
    "diff(phi_func, x_z, x_z).simplify()"
   ]
  },
  {
   "cell_type": "markdown",
   "metadata": {},
   "source": [
    "### $\\frac{d}{dx_z} \\left(  q\\right)$"
   ]
  },
  {
   "cell_type": "code",
   "execution_count": 152,
   "metadata": {},
   "outputs": [
    {
     "data": {
      "image/png": "[encoded data removed]",
      "text/plain": [
       "                        3               \n",
       "  C₁(x_z)⋅C₂(x_z)   2⋅C₂ (x_z)          \n",
       "- ─────────────── + ────────── + C₃(x_z)\n",
       "         3              27              "
      ]
     },
     "metadata": {},
     "output_type": "display_data"
    }
   ],
   "source": [
    "q_func = (Rational(27) * C_3(x_z) - Rational(9) * C_1(x_z) * C_2(x_z) + Rational(2) * (C_2(x_z))**3) / Rational(27)\n",
    "q_func"
   ]
  },
  {
   "cell_type": "code",
   "execution_count": 153,
   "metadata": {},
   "outputs": [
    {
     "data": {
      "image/png": "[encoded data removed]",
      "text/plain": [
       "           d                  2       d                       d               \n",
       "  C₁(x_z)⋅────(C₂(x_z))   2⋅C₂ (x_z)⋅────(C₂(x_z))   C₂(x_z)⋅────(C₁(x_z))    \n",
       "          dx_z                       dx_z                    dx_z             \n",
       "- ───────────────────── + ──────────────────────── - ───────────────────── + ─\n",
       "            3                        9                         3             d\n",
       "\n",
       "            \n",
       "            \n",
       "d           \n",
       "───(C₃(x_z))\n",
       "x_z         "
      ]
     },
     "metadata": {},
     "output_type": "display_data"
    }
   ],
   "source": [
    "diff(q_func, x_z)"
   ]
  },
  {
   "cell_type": "markdown",
   "metadata": {},
   "source": [
    "### $\\frac{d^2}{dx_z^2} \\left(  q \\right)$"
   ]
  },
  {
   "cell_type": "code",
   "execution_count": 154,
   "metadata": {},
   "outputs": [
    {
     "data": {
      "image/png": "[encoded data removed]",
      "text/plain": [
       "             2                           2                                    \n",
       "            d                  2        d                                     \n",
       "  C₁(x_z)⋅─────(C₂(x_z))   2⋅C₂ (x_z)⋅─────(C₂(x_z))             ⎛ d          \n",
       "              2                           2            4⋅C₂(x_z)⋅⎜────(C₂(x_z)\n",
       "          dx_z                        dx_z                       ⎝dx_z        \n",
       "- ────────────────────── + ───────────────────────── + ───────────────────────\n",
       "            3                          9                           9          \n",
       "                                                                              \n",
       "\n",
       "                 2                                                           \n",
       "  2             d                                                            \n",
       " ⎞    C₂(x_z)⋅─────(C₁(x_z))      d             d                            \n",
       ")⎟                2            2⋅────(C₁(x_z))⋅────(C₂(x_z))      2          \n",
       " ⎠            dx_z               dx_z          dx_z              d           \n",
       "─── - ────────────────────── - ───────────────────────────── + ─────(C₃(x_z))\n",
       "                3                            3                     2         \n",
       "                                                               dx_z          "
      ]
     },
     "metadata": {},
     "output_type": "display_data"
    }
   ],
   "source": [
    "diff(q_func, x_z, x_z)"
   ]
  },
  {
   "cell_type": "markdown",
   "metadata": {},
   "source": [
    "### $\\frac{d}{dx_z} \\left(  C_1 \\right)$"
   ]
  },
  {
   "cell_type": "code",
   "execution_count": 155,
   "metadata": {},
   "outputs": [
    {
     "data": {
      "image/png": "[encoded data removed]",
      "text/plain": [
       "              R⋅T\n",
       "-b_mix(x_z) - ───\n",
       "               P "
      ]
     },
     "metadata": {},
     "output_type": "display_data"
    }
   ],
   "source": [
    "C_1_func = - ( (R * T / P) + b_mix(x_z))\n",
    "C_1_func"
   ]
  },
  {
   "cell_type": "code",
   "execution_count": 157,
   "metadata": {},
   "outputs": [
    {
     "data": {
      "image/png": "[encoded data removed]",
      "text/plain": [
       "  d              \n",
       "-────(b_mix(x_z))\n",
       " dx_z            "
      ]
     },
     "metadata": {},
     "output_type": "display_data"
    }
   ],
   "source": [
    "diff(C_1_func, x_z)"
   ]
  },
  {
   "cell_type": "markdown",
   "metadata": {},
   "source": [
    "### $\\frac{d^2}{dx_z^2} \\left(  C_1 \\right)$"
   ]
  },
  {
   "cell_type": "code",
   "execution_count": 159,
   "metadata": {},
   "outputs": [
    {
     "data": {
      "image/png": "[encoded data removed]",
      "text/plain": [
       "    2             \n",
       "   d              \n",
       "-─────(b_mix(x_z))\n",
       "     2            \n",
       " dx_z             "
      ]
     },
     "metadata": {},
     "output_type": "display_data"
    }
   ],
   "source": [
    "diff(C_1_func, x_z, x_z) # NOTE: This is == 0"
   ]
  },
  {
   "cell_type": "markdown",
   "metadata": {},
   "source": [
    "### $\\frac{d}{dx_z} \\left(  C_2 \\right)$"
   ]
  },
  {
   "cell_type": "code",
   "execution_count": 160,
   "metadata": {},
   "outputs": [
    {
     "data": {
      "image/png": "[encoded data removed]",
      "text/plain": [
       "a_mix(x_z)\n",
       "──────────\n",
       "    P     "
      ]
     },
     "metadata": {},
     "output_type": "display_data"
    }
   ],
   "source": [
    "C_2_func = a_mix(x_z) / P\n",
    "C_2_func"
   ]
  },
  {
   "cell_type": "code",
   "execution_count": 161,
   "metadata": {},
   "outputs": [
    {
     "data": {
      "image/png": "[encoded data removed]",
      "text/plain": [
       " d              \n",
       "────(a_mix(x_z))\n",
       "dx_z            \n",
       "────────────────\n",
       "       P        "
      ]
     },
     "metadata": {},
     "output_type": "display_data"
    }
   ],
   "source": [
    "diff(C_2_func, x_z)"
   ]
  },
  {
   "cell_type": "markdown",
   "metadata": {},
   "source": [
    "### $\\frac{d^2}{dx_z^2} \\left(  C_2 \\right)$"
   ]
  },
  {
   "cell_type": "code",
   "execution_count": 162,
   "metadata": {},
   "outputs": [
    {
     "data": {
      "image/png": "[encoded data removed]",
      "text/plain": [
       "   2             \n",
       "  d              \n",
       "─────(a_mix(x_z))\n",
       "    2            \n",
       "dx_z             \n",
       "─────────────────\n",
       "        P        "
      ]
     },
     "metadata": {},
     "output_type": "display_data"
    }
   ],
   "source": [
    "diff(C_2_func, x_z, x_z)"
   ]
  },
  {
   "cell_type": "markdown",
   "metadata": {},
   "source": [
    "### $\\frac{d}{dx_z} \\left(  C_3 \\right)$"
   ]
  },
  {
   "cell_type": "code",
   "execution_count": 165,
   "metadata": {},
   "outputs": [
    {
     "data": {
      "image/png": "[encoded data removed]",
      "text/plain": [
       "-a_mix(x_z)⋅b_mix(x_z) \n",
       "───────────────────────\n",
       "           P           "
      ]
     },
     "metadata": {},
     "output_type": "display_data"
    }
   ],
   "source": [
    "C_3_func = - (a_mix(x_z) * b_mix(x_z)) / P\n",
    "C_3_func"
   ]
  },
  {
   "cell_type": "code",
   "execution_count": 166,
   "metadata": {},
   "outputs": [
    {
     "data": {
      "image/png": "[encoded data removed]",
      "text/plain": [
       "              d                             d              \n",
       "  a_mix(x_z)⋅────(b_mix(x_z))   b_mix(x_z)⋅────(a_mix(x_z))\n",
       "             dx_z                          dx_z            \n",
       "- ─────────────────────────── - ───────────────────────────\n",
       "               P                             P             "
      ]
     },
     "metadata": {},
     "output_type": "display_data"
    }
   ],
   "source": [
    "diff(C_3_func, x_z)"
   ]
  },
  {
   "cell_type": "markdown",
   "metadata": {},
   "source": [
    "### $\\frac{d^2}{dx_z^2} \\left(  C_3 \\right)$"
   ]
  },
  {
   "cell_type": "code",
   "execution_count": 167,
   "metadata": {},
   "outputs": [
    {
     "data": {
      "image/png": "[encoded data removed]",
      "text/plain": [
       " ⎛              2                              2                              \n",
       " ⎜             d                              d                    d          \n",
       "-⎜a_mix(x_z)⋅─────(b_mix(x_z)) + b_mix(x_z)⋅─────(a_mix(x_z)) + 2⋅────(a_mix(x\n",
       " ⎜               2                              2                 dx_z        \n",
       " ⎝           dx_z                           dx_z                              \n",
       "──────────────────────────────────────────────────────────────────────────────\n",
       "                                                  P                           \n",
       "\n",
       "                     ⎞ \n",
       "      d              ⎟ \n",
       "_z))⋅────(b_mix(x_z))⎟ \n",
       "     dx_z            ⎟ \n",
       "                     ⎠ \n",
       "───────────────────────\n",
       "                       "
      ]
     },
     "metadata": {},
     "output_type": "display_data"
    }
   ],
   "source": [
    "diff(C_3_func, x_z, x_z)"
   ]
  },
  {
   "cell_type": "code",
   "execution_count": null,
   "metadata": {
    "collapsed": true
   },
   "outputs": [],
   "source": []
  }
 ],
 "metadata": {
  "kernelspec": {
   "display_name": "Python 3 (ipykernel)",
   "language": "python",
   "name": "python3"
  },
  "language_info": {
   "codemirror_mode": {
    "name": "ipython",
    "version": 3
   },
   "file_extension": ".py",
   "mimetype": "text/x-python",
   "name": "python",
   "nbconvert_exporter": "python",
   "pygments_lexer": "ipython3",
   "version": "3.10.4"
  }
 },
 "nbformat": 4,
 "nbformat_minor": 1
}
